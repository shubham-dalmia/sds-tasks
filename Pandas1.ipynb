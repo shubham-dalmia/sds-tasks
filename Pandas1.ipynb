{
  "nbformat": 4,
  "nbformat_minor": 0,
  "metadata": {
    "colab": {
      "name": "Untitled1.ipynb",
      "provenance": [],
      "authorship_tag": "ABX9TyPW15y520N2g35n25UNY3nF",
      "include_colab_link": true
    },
    "kernelspec": {
      "name": "python3",
      "display_name": "Python 3"
    },
    "language_info": {
      "name": "python"
    }
  },
  "cells": [
    {
      "cell_type": "markdown",
      "metadata": {
        "id": "view-in-github",
        "colab_type": "text"
      },
      "source": [
        "<a href=\"https://colab.research.google.com/github/shubham-dalmia/sds-tasks/blob/main/Pandas1.ipynb\" target=\"_parent\"><img src=\"https://colab.research.google.com/assets/colab-badge.svg\" alt=\"Open In Colab\"/></a>"
      ]
    },
    {
      "cell_type": "code",
      "metadata": {
        "id": "5ed5X0BlxiSF"
      },
      "source": [
        "import numpy as np\n",
        "import pandas as pd"
      ],
      "execution_count": 2,
      "outputs": []
    },
    {
      "cell_type": "code",
      "metadata": {
        "id": "ff2vHkinx9my"
      },
      "source": [
        "df=pd.DataFrame({'Age': [10,20,30,40,50,60,70,80],\n",
        "                 'Gender': ['Male', 'Male','Female','Female','Male','Male','Female','Female'],\n",
        "                 'Height': [120,130,140,150,160,170,155,175],\n",
        "                 'Weight': [40,45,50,55,60,65,70,75]}, columns=['Age','Gender','Height','Weight'])"
      ],
      "execution_count": 10,
      "outputs": []
    },
    {
      "cell_type": "code",
      "metadata": {
        "id": "euNcNzxY90go"
      },
      "source": [
        "df.index=['Aryan','Anurag','Chandan','Dilip','Falak','Shubham','Riya','Rakesh']\n"
      ],
      "execution_count": 14,
      "outputs": []
    },
    {
      "cell_type": "code",
      "metadata": {
        "colab": {
          "base_uri": "https://localhost:8080/",
          "height": 295
        },
        "id": "J8IidCuQ-aL4",
        "outputId": "44ebd532-2cc0-450d-c65b-b2a59d59a44e"
      },
      "source": [
        "df"
      ],
      "execution_count": 23,
      "outputs": [
        {
          "output_type": "execute_result",
          "data": {
            "text/html": [
              "<div>\n",
              "<style scoped>\n",
              "    .dataframe tbody tr th:only-of-type {\n",
              "        vertical-align: middle;\n",
              "    }\n",
              "\n",
              "    .dataframe tbody tr th {\n",
              "        vertical-align: top;\n",
              "    }\n",
              "\n",
              "    .dataframe thead th {\n",
              "        text-align: right;\n",
              "    }\n",
              "</style>\n",
              "<table border=\"1\" class=\"dataframe\">\n",
              "  <thead>\n",
              "    <tr style=\"text-align: right;\">\n",
              "      <th></th>\n",
              "      <th>Age</th>\n",
              "      <th>Gender</th>\n",
              "      <th>Height</th>\n",
              "      <th>Weight</th>\n",
              "    </tr>\n",
              "  </thead>\n",
              "  <tbody>\n",
              "    <tr>\n",
              "      <th>Aryan</th>\n",
              "      <td>10</td>\n",
              "      <td>Male</td>\n",
              "      <td>120</td>\n",
              "      <td>40</td>\n",
              "    </tr>\n",
              "    <tr>\n",
              "      <th>Anurag</th>\n",
              "      <td>20</td>\n",
              "      <td>Male</td>\n",
              "      <td>130</td>\n",
              "      <td>45</td>\n",
              "    </tr>\n",
              "    <tr>\n",
              "      <th>Chandan</th>\n",
              "      <td>30</td>\n",
              "      <td>Female</td>\n",
              "      <td>140</td>\n",
              "      <td>50</td>\n",
              "    </tr>\n",
              "    <tr>\n",
              "      <th>Dilip</th>\n",
              "      <td>40</td>\n",
              "      <td>Female</td>\n",
              "      <td>150</td>\n",
              "      <td>55</td>\n",
              "    </tr>\n",
              "    <tr>\n",
              "      <th>Falak</th>\n",
              "      <td>50</td>\n",
              "      <td>Male</td>\n",
              "      <td>160</td>\n",
              "      <td>60</td>\n",
              "    </tr>\n",
              "    <tr>\n",
              "      <th>Shubham</th>\n",
              "      <td>60</td>\n",
              "      <td>Male</td>\n",
              "      <td>170</td>\n",
              "      <td>65</td>\n",
              "    </tr>\n",
              "    <tr>\n",
              "      <th>Riya</th>\n",
              "      <td>70</td>\n",
              "      <td>Female</td>\n",
              "      <td>155</td>\n",
              "      <td>70</td>\n",
              "    </tr>\n",
              "    <tr>\n",
              "      <th>Rakesh</th>\n",
              "      <td>80</td>\n",
              "      <td>Female</td>\n",
              "      <td>175</td>\n",
              "      <td>75</td>\n",
              "    </tr>\n",
              "  </tbody>\n",
              "</table>\n",
              "</div>"
            ],
            "text/plain": [
              "         Age  Gender  Height  Weight\n",
              "Aryan     10    Male     120      40\n",
              "Anurag    20    Male     130      45\n",
              "Chandan   30  Female     140      50\n",
              "Dilip     40  Female     150      55\n",
              "Falak     50    Male     160      60\n",
              "Shubham   60    Male     170      65\n",
              "Riya      70  Female     155      70\n",
              "Rakesh    80  Female     175      75"
            ]
          },
          "metadata": {},
          "execution_count": 23
        }
      ]
    },
    {
      "cell_type": "code",
      "metadata": {
        "colab": {
          "base_uri": "https://localhost:8080/"
        },
        "id": "QoZbUiqI-gxg",
        "outputId": "959cee30-1778-4db2-8bd5-d27a8183c427"
      },
      "source": [
        "df.columns"
      ],
      "execution_count": 15,
      "outputs": [
        {
          "output_type": "execute_result",
          "data": {
            "text/plain": [
              "Index(['Age', 'Gender', 'Height', 'Weight'], dtype='object')"
            ]
          },
          "metadata": {},
          "execution_count": 15
        }
      ]
    },
    {
      "cell_type": "code",
      "metadata": {
        "colab": {
          "base_uri": "https://localhost:8080/"
        },
        "id": "5iP1An8l-lJC",
        "outputId": "58c8a160-dd4d-440d-85ad-b5d93e80831b"
      },
      "source": [
        "df.index"
      ],
      "execution_count": 16,
      "outputs": [
        {
          "output_type": "execute_result",
          "data": {
            "text/plain": [
              "Index(['Aryan', 'Anurag', 'Chandan', 'Dilip', 'Falak', 'Shubham', 'Riya',\n",
              "       'Rakesh'],\n",
              "      dtype='object')"
            ]
          },
          "metadata": {},
          "execution_count": 16
        }
      ]
    },
    {
      "cell_type": "code",
      "metadata": {
        "colab": {
          "base_uri": "https://localhost:8080/"
        },
        "id": "OQFrvJtf-o2L",
        "outputId": "14ef634a-50af-4feb-8ce1-f2d73f8a3a2e"
      },
      "source": [
        "df.info()"
      ],
      "execution_count": 17,
      "outputs": [
        {
          "output_type": "stream",
          "name": "stdout",
          "text": [
            "<class 'pandas.core.frame.DataFrame'>\n",
            "Index: 8 entries, Aryan to Rakesh\n",
            "Data columns (total 4 columns):\n",
            " #   Column  Non-Null Count  Dtype \n",
            "---  ------  --------------  ----- \n",
            " 0   Age     8 non-null      int64 \n",
            " 1   Gender  8 non-null      object\n",
            " 2   Height  8 non-null      int64 \n",
            " 3   Weight  8 non-null      int64 \n",
            "dtypes: int64(3), object(1)\n",
            "memory usage: 640.0+ bytes\n"
          ]
        }
      ]
    },
    {
      "cell_type": "code",
      "metadata": {
        "colab": {
          "base_uri": "https://localhost:8080/"
        },
        "id": "4jgAoDwU-q2E",
        "outputId": "bbbe66a8-37f0-474f-c198-ffc1eea200f7"
      },
      "source": [
        "df.size"
      ],
      "execution_count": 18,
      "outputs": [
        {
          "output_type": "execute_result",
          "data": {
            "text/plain": [
              "32"
            ]
          },
          "metadata": {},
          "execution_count": 18
        }
      ]
    },
    {
      "cell_type": "code",
      "metadata": {
        "colab": {
          "base_uri": "https://localhost:8080/"
        },
        "id": "RH6-kRXU-tul",
        "outputId": "1ac3159c-1fab-4a71-b46e-28640564625f"
      },
      "source": [
        "df.shape"
      ],
      "execution_count": 19,
      "outputs": [
        {
          "output_type": "execute_result",
          "data": {
            "text/plain": [
              "(8, 4)"
            ]
          },
          "metadata": {},
          "execution_count": 19
        }
      ]
    },
    {
      "cell_type": "code",
      "metadata": {
        "colab": {
          "base_uri": "https://localhost:8080/",
          "height": 295
        },
        "id": "rQVne0O--wHW",
        "outputId": "43289f61-da14-4163-de46-0cf989591466"
      },
      "source": [
        "df.describe()"
      ],
      "execution_count": 20,
      "outputs": [
        {
          "output_type": "execute_result",
          "data": {
            "text/html": [
              "<div>\n",
              "<style scoped>\n",
              "    .dataframe tbody tr th:only-of-type {\n",
              "        vertical-align: middle;\n",
              "    }\n",
              "\n",
              "    .dataframe tbody tr th {\n",
              "        vertical-align: top;\n",
              "    }\n",
              "\n",
              "    .dataframe thead th {\n",
              "        text-align: right;\n",
              "    }\n",
              "</style>\n",
              "<table border=\"1\" class=\"dataframe\">\n",
              "  <thead>\n",
              "    <tr style=\"text-align: right;\">\n",
              "      <th></th>\n",
              "      <th>Age</th>\n",
              "      <th>Height</th>\n",
              "      <th>Weight</th>\n",
              "    </tr>\n",
              "  </thead>\n",
              "  <tbody>\n",
              "    <tr>\n",
              "      <th>count</th>\n",
              "      <td>8.000000</td>\n",
              "      <td>8.00000</td>\n",
              "      <td>8.000000</td>\n",
              "    </tr>\n",
              "    <tr>\n",
              "      <th>mean</th>\n",
              "      <td>45.000000</td>\n",
              "      <td>150.00000</td>\n",
              "      <td>57.500000</td>\n",
              "    </tr>\n",
              "    <tr>\n",
              "      <th>std</th>\n",
              "      <td>24.494897</td>\n",
              "      <td>19.08627</td>\n",
              "      <td>12.247449</td>\n",
              "    </tr>\n",
              "    <tr>\n",
              "      <th>min</th>\n",
              "      <td>10.000000</td>\n",
              "      <td>120.00000</td>\n",
              "      <td>40.000000</td>\n",
              "    </tr>\n",
              "    <tr>\n",
              "      <th>25%</th>\n",
              "      <td>27.500000</td>\n",
              "      <td>137.50000</td>\n",
              "      <td>48.750000</td>\n",
              "    </tr>\n",
              "    <tr>\n",
              "      <th>50%</th>\n",
              "      <td>45.000000</td>\n",
              "      <td>152.50000</td>\n",
              "      <td>57.500000</td>\n",
              "    </tr>\n",
              "    <tr>\n",
              "      <th>75%</th>\n",
              "      <td>62.500000</td>\n",
              "      <td>162.50000</td>\n",
              "      <td>66.250000</td>\n",
              "    </tr>\n",
              "    <tr>\n",
              "      <th>max</th>\n",
              "      <td>80.000000</td>\n",
              "      <td>175.00000</td>\n",
              "      <td>75.000000</td>\n",
              "    </tr>\n",
              "  </tbody>\n",
              "</table>\n",
              "</div>"
            ],
            "text/plain": [
              "             Age     Height     Weight\n",
              "count   8.000000    8.00000   8.000000\n",
              "mean   45.000000  150.00000  57.500000\n",
              "std    24.494897   19.08627  12.247449\n",
              "min    10.000000  120.00000  40.000000\n",
              "25%    27.500000  137.50000  48.750000\n",
              "50%    45.000000  152.50000  57.500000\n",
              "75%    62.500000  162.50000  66.250000\n",
              "max    80.000000  175.00000  75.000000"
            ]
          },
          "metadata": {},
          "execution_count": 20
        }
      ]
    },
    {
      "cell_type": "code",
      "metadata": {
        "colab": {
          "base_uri": "https://localhost:8080/"
        },
        "id": "tlMBFyrq-zAb",
        "outputId": "0d9976c7-758c-4eed-ecf5-4e47f86344ba"
      },
      "source": [
        "df.dtypes"
      ],
      "execution_count": 21,
      "outputs": [
        {
          "output_type": "execute_result",
          "data": {
            "text/plain": [
              "Age        int64\n",
              "Gender    object\n",
              "Height     int64\n",
              "Weight     int64\n",
              "dtype: object"
            ]
          },
          "metadata": {},
          "execution_count": 21
        }
      ]
    },
    {
      "cell_type": "code",
      "metadata": {
        "colab": {
          "base_uri": "https://localhost:8080/"
        },
        "id": "HGS0sgqm-27n",
        "outputId": "331d9e9a-03d8-41bb-e945-117913360d8d"
      },
      "source": [
        "df.dtypes.value_counts()"
      ],
      "execution_count": 22,
      "outputs": [
        {
          "output_type": "execute_result",
          "data": {
            "text/plain": [
              "int64     3\n",
              "object    1\n",
              "dtype: int64"
            ]
          },
          "metadata": {},
          "execution_count": 22
        }
      ]
    },
    {
      "cell_type": "code",
      "metadata": {
        "colab": {
          "base_uri": "https://localhost:8080/"
        },
        "id": "UcVoYK-N-9uH",
        "outputId": "4382bfe0-197e-470a-e499-db873e13b147"
      },
      "source": [
        "df['Age']"
      ],
      "execution_count": 34,
      "outputs": [
        {
          "output_type": "execute_result",
          "data": {
            "text/plain": [
              "Aryan      10\n",
              "Anurag     20\n",
              "Chandan    30\n",
              "Dilip      40\n",
              "Falak      50\n",
              "Shubham    60\n",
              "Riya       70\n",
              "Rakesh     80\n",
              "Name: Age, dtype: int64"
            ]
          },
          "metadata": {},
          "execution_count": 34
        }
      ]
    },
    {
      "cell_type": "code",
      "metadata": {
        "colab": {
          "base_uri": "https://localhost:8080/",
          "height": 295
        },
        "id": "Bt7nAnJC_vX4",
        "outputId": "032211b3-9637-4fe9-cda5-adcccff07ab2"
      },
      "source": [
        "df['Age'].to_frame()"
      ],
      "execution_count": 36,
      "outputs": [
        {
          "output_type": "execute_result",
          "data": {
            "text/html": [
              "<div>\n",
              "<style scoped>\n",
              "    .dataframe tbody tr th:only-of-type {\n",
              "        vertical-align: middle;\n",
              "    }\n",
              "\n",
              "    .dataframe tbody tr th {\n",
              "        vertical-align: top;\n",
              "    }\n",
              "\n",
              "    .dataframe thead th {\n",
              "        text-align: right;\n",
              "    }\n",
              "</style>\n",
              "<table border=\"1\" class=\"dataframe\">\n",
              "  <thead>\n",
              "    <tr style=\"text-align: right;\">\n",
              "      <th></th>\n",
              "      <th>Age</th>\n",
              "    </tr>\n",
              "  </thead>\n",
              "  <tbody>\n",
              "    <tr>\n",
              "      <th>Aryan</th>\n",
              "      <td>10</td>\n",
              "    </tr>\n",
              "    <tr>\n",
              "      <th>Anurag</th>\n",
              "      <td>20</td>\n",
              "    </tr>\n",
              "    <tr>\n",
              "      <th>Chandan</th>\n",
              "      <td>30</td>\n",
              "    </tr>\n",
              "    <tr>\n",
              "      <th>Dilip</th>\n",
              "      <td>40</td>\n",
              "    </tr>\n",
              "    <tr>\n",
              "      <th>Falak</th>\n",
              "      <td>50</td>\n",
              "    </tr>\n",
              "    <tr>\n",
              "      <th>Shubham</th>\n",
              "      <td>60</td>\n",
              "    </tr>\n",
              "    <tr>\n",
              "      <th>Riya</th>\n",
              "      <td>70</td>\n",
              "    </tr>\n",
              "    <tr>\n",
              "      <th>Rakesh</th>\n",
              "      <td>80</td>\n",
              "    </tr>\n",
              "  </tbody>\n",
              "</table>\n",
              "</div>"
            ],
            "text/plain": [
              "         Age\n",
              "Aryan     10\n",
              "Anurag    20\n",
              "Chandan   30\n",
              "Dilip     40\n",
              "Falak     50\n",
              "Shubham   60\n",
              "Riya      70\n",
              "Rakesh    80"
            ]
          },
          "metadata": {},
          "execution_count": 36
        }
      ]
    },
    {
      "cell_type": "code",
      "metadata": {
        "colab": {
          "base_uri": "https://localhost:8080/",
          "height": 295
        },
        "id": "-SrKqZwVAajU",
        "outputId": "ed51d8af-f6b3-4830-ea1c-f99d35322b9d"
      },
      "source": [
        "df[['Age','Height']]"
      ],
      "execution_count": 38,
      "outputs": [
        {
          "output_type": "execute_result",
          "data": {
            "text/html": [
              "<div>\n",
              "<style scoped>\n",
              "    .dataframe tbody tr th:only-of-type {\n",
              "        vertical-align: middle;\n",
              "    }\n",
              "\n",
              "    .dataframe tbody tr th {\n",
              "        vertical-align: top;\n",
              "    }\n",
              "\n",
              "    .dataframe thead th {\n",
              "        text-align: right;\n",
              "    }\n",
              "</style>\n",
              "<table border=\"1\" class=\"dataframe\">\n",
              "  <thead>\n",
              "    <tr style=\"text-align: right;\">\n",
              "      <th></th>\n",
              "      <th>Age</th>\n",
              "      <th>Height</th>\n",
              "    </tr>\n",
              "  </thead>\n",
              "  <tbody>\n",
              "    <tr>\n",
              "      <th>Aryan</th>\n",
              "      <td>10</td>\n",
              "      <td>120</td>\n",
              "    </tr>\n",
              "    <tr>\n",
              "      <th>Anurag</th>\n",
              "      <td>20</td>\n",
              "      <td>130</td>\n",
              "    </tr>\n",
              "    <tr>\n",
              "      <th>Chandan</th>\n",
              "      <td>30</td>\n",
              "      <td>140</td>\n",
              "    </tr>\n",
              "    <tr>\n",
              "      <th>Dilip</th>\n",
              "      <td>40</td>\n",
              "      <td>150</td>\n",
              "    </tr>\n",
              "    <tr>\n",
              "      <th>Falak</th>\n",
              "      <td>50</td>\n",
              "      <td>160</td>\n",
              "    </tr>\n",
              "    <tr>\n",
              "      <th>Shubham</th>\n",
              "      <td>60</td>\n",
              "      <td>170</td>\n",
              "    </tr>\n",
              "    <tr>\n",
              "      <th>Riya</th>\n",
              "      <td>70</td>\n",
              "      <td>155</td>\n",
              "    </tr>\n",
              "    <tr>\n",
              "      <th>Rakesh</th>\n",
              "      <td>80</td>\n",
              "      <td>175</td>\n",
              "    </tr>\n",
              "  </tbody>\n",
              "</table>\n",
              "</div>"
            ],
            "text/plain": [
              "         Age  Height\n",
              "Aryan     10     120\n",
              "Anurag    20     130\n",
              "Chandan   30     140\n",
              "Dilip     40     150\n",
              "Falak     50     160\n",
              "Shubham   60     170\n",
              "Riya      70     155\n",
              "Rakesh    80     175"
            ]
          },
          "metadata": {},
          "execution_count": 38
        }
      ]
    },
    {
      "cell_type": "code",
      "metadata": {
        "colab": {
          "base_uri": "https://localhost:8080/",
          "height": 203
        },
        "id": "mPM21Ee4AhyR",
        "outputId": "6512fcf1-66be-4ddb-d22e-5adb4e3bb832"
      },
      "source": [
        "df[1:6]"
      ],
      "execution_count": 40,
      "outputs": [
        {
          "output_type": "execute_result",
          "data": {
            "text/html": [
              "<div>\n",
              "<style scoped>\n",
              "    .dataframe tbody tr th:only-of-type {\n",
              "        vertical-align: middle;\n",
              "    }\n",
              "\n",
              "    .dataframe tbody tr th {\n",
              "        vertical-align: top;\n",
              "    }\n",
              "\n",
              "    .dataframe thead th {\n",
              "        text-align: right;\n",
              "    }\n",
              "</style>\n",
              "<table border=\"1\" class=\"dataframe\">\n",
              "  <thead>\n",
              "    <tr style=\"text-align: right;\">\n",
              "      <th></th>\n",
              "      <th>Age</th>\n",
              "      <th>Gender</th>\n",
              "      <th>Height</th>\n",
              "      <th>Weight</th>\n",
              "    </tr>\n",
              "  </thead>\n",
              "  <tbody>\n",
              "    <tr>\n",
              "      <th>Anurag</th>\n",
              "      <td>20</td>\n",
              "      <td>Male</td>\n",
              "      <td>130</td>\n",
              "      <td>45</td>\n",
              "    </tr>\n",
              "    <tr>\n",
              "      <th>Chandan</th>\n",
              "      <td>30</td>\n",
              "      <td>Female</td>\n",
              "      <td>140</td>\n",
              "      <td>50</td>\n",
              "    </tr>\n",
              "    <tr>\n",
              "      <th>Dilip</th>\n",
              "      <td>40</td>\n",
              "      <td>Female</td>\n",
              "      <td>150</td>\n",
              "      <td>55</td>\n",
              "    </tr>\n",
              "    <tr>\n",
              "      <th>Falak</th>\n",
              "      <td>50</td>\n",
              "      <td>Male</td>\n",
              "      <td>160</td>\n",
              "      <td>60</td>\n",
              "    </tr>\n",
              "    <tr>\n",
              "      <th>Shubham</th>\n",
              "      <td>60</td>\n",
              "      <td>Male</td>\n",
              "      <td>170</td>\n",
              "      <td>65</td>\n",
              "    </tr>\n",
              "  </tbody>\n",
              "</table>\n",
              "</div>"
            ],
            "text/plain": [
              "         Age  Gender  Height  Weight\n",
              "Anurag    20    Male     130      45\n",
              "Chandan   30  Female     140      50\n",
              "Dilip     40  Female     150      55\n",
              "Falak     50    Male     160      60\n",
              "Shubham   60    Male     170      65"
            ]
          },
          "metadata": {},
          "execution_count": 40
        }
      ]
    },
    {
      "cell_type": "code",
      "metadata": {
        "colab": {
          "base_uri": "https://localhost:8080/"
        },
        "id": "8Q31lwCQAnx4",
        "outputId": "fc3d12ed-0743-4178-88f7-5f46f93f3c34"
      },
      "source": [
        "df.loc['Shubham']"
      ],
      "execution_count": 41,
      "outputs": [
        {
          "output_type": "execute_result",
          "data": {
            "text/plain": [
              "Age         60\n",
              "Gender    Male\n",
              "Height     170\n",
              "Weight      65\n",
              "Name: Shubham, dtype: object"
            ]
          },
          "metadata": {},
          "execution_count": 41
        }
      ]
    },
    {
      "cell_type": "code",
      "metadata": {
        "colab": {
          "base_uri": "https://localhost:8080/",
          "height": 172
        },
        "id": "tfHOVRquAvUn",
        "outputId": "4bd87e0b-1bcb-46fb-8be4-bd83beda1136"
      },
      "source": [
        "df.loc['Anurag':'Falak']"
      ],
      "execution_count": 42,
      "outputs": [
        {
          "output_type": "execute_result",
          "data": {
            "text/html": [
              "<div>\n",
              "<style scoped>\n",
              "    .dataframe tbody tr th:only-of-type {\n",
              "        vertical-align: middle;\n",
              "    }\n",
              "\n",
              "    .dataframe tbody tr th {\n",
              "        vertical-align: top;\n",
              "    }\n",
              "\n",
              "    .dataframe thead th {\n",
              "        text-align: right;\n",
              "    }\n",
              "</style>\n",
              "<table border=\"1\" class=\"dataframe\">\n",
              "  <thead>\n",
              "    <tr style=\"text-align: right;\">\n",
              "      <th></th>\n",
              "      <th>Age</th>\n",
              "      <th>Gender</th>\n",
              "      <th>Height</th>\n",
              "      <th>Weight</th>\n",
              "    </tr>\n",
              "  </thead>\n",
              "  <tbody>\n",
              "    <tr>\n",
              "      <th>Anurag</th>\n",
              "      <td>20</td>\n",
              "      <td>Male</td>\n",
              "      <td>130</td>\n",
              "      <td>45</td>\n",
              "    </tr>\n",
              "    <tr>\n",
              "      <th>Chandan</th>\n",
              "      <td>30</td>\n",
              "      <td>Female</td>\n",
              "      <td>140</td>\n",
              "      <td>50</td>\n",
              "    </tr>\n",
              "    <tr>\n",
              "      <th>Dilip</th>\n",
              "      <td>40</td>\n",
              "      <td>Female</td>\n",
              "      <td>150</td>\n",
              "      <td>55</td>\n",
              "    </tr>\n",
              "    <tr>\n",
              "      <th>Falak</th>\n",
              "      <td>50</td>\n",
              "      <td>Male</td>\n",
              "      <td>160</td>\n",
              "      <td>60</td>\n",
              "    </tr>\n",
              "  </tbody>\n",
              "</table>\n",
              "</div>"
            ],
            "text/plain": [
              "         Age  Gender  Height  Weight\n",
              "Anurag    20    Male     130      45\n",
              "Chandan   30  Female     140      50\n",
              "Dilip     40  Female     150      55\n",
              "Falak     50    Male     160      60"
            ]
          },
          "metadata": {},
          "execution_count": 42
        }
      ]
    },
    {
      "cell_type": "code",
      "metadata": {
        "colab": {
          "base_uri": "https://localhost:8080/"
        },
        "id": "KLJkmaQ6BVg2",
        "outputId": "8f01cf3d-a4fe-4bb6-ffc5-eee20eae5029"
      },
      "source": [
        "df.loc['Chandan':'Shubham','Height']"
      ],
      "execution_count": 43,
      "outputs": [
        {
          "output_type": "execute_result",
          "data": {
            "text/plain": [
              "Chandan    140\n",
              "Dilip      150\n",
              "Falak      160\n",
              "Shubham    170\n",
              "Name: Height, dtype: int64"
            ]
          },
          "metadata": {},
          "execution_count": 43
        }
      ]
    },
    {
      "cell_type": "code",
      "metadata": {
        "colab": {
          "base_uri": "https://localhost:8080/",
          "height": 203
        },
        "id": "4PfZk8fuBi98",
        "outputId": "08dbbefe-4942-404b-f088-98d3b050f019"
      },
      "source": [
        "df.loc['Chandan':'Riya',['Weight','Age']]"
      ],
      "execution_count": 44,
      "outputs": [
        {
          "output_type": "execute_result",
          "data": {
            "text/html": [
              "<div>\n",
              "<style scoped>\n",
              "    .dataframe tbody tr th:only-of-type {\n",
              "        vertical-align: middle;\n",
              "    }\n",
              "\n",
              "    .dataframe tbody tr th {\n",
              "        vertical-align: top;\n",
              "    }\n",
              "\n",
              "    .dataframe thead th {\n",
              "        text-align: right;\n",
              "    }\n",
              "</style>\n",
              "<table border=\"1\" class=\"dataframe\">\n",
              "  <thead>\n",
              "    <tr style=\"text-align: right;\">\n",
              "      <th></th>\n",
              "      <th>Weight</th>\n",
              "      <th>Age</th>\n",
              "    </tr>\n",
              "  </thead>\n",
              "  <tbody>\n",
              "    <tr>\n",
              "      <th>Chandan</th>\n",
              "      <td>50</td>\n",
              "      <td>30</td>\n",
              "    </tr>\n",
              "    <tr>\n",
              "      <th>Dilip</th>\n",
              "      <td>55</td>\n",
              "      <td>40</td>\n",
              "    </tr>\n",
              "    <tr>\n",
              "      <th>Falak</th>\n",
              "      <td>60</td>\n",
              "      <td>50</td>\n",
              "    </tr>\n",
              "    <tr>\n",
              "      <th>Shubham</th>\n",
              "      <td>65</td>\n",
              "      <td>60</td>\n",
              "    </tr>\n",
              "    <tr>\n",
              "      <th>Riya</th>\n",
              "      <td>70</td>\n",
              "      <td>70</td>\n",
              "    </tr>\n",
              "  </tbody>\n",
              "</table>\n",
              "</div>"
            ],
            "text/plain": [
              "         Weight  Age\n",
              "Chandan      50   30\n",
              "Dilip        55   40\n",
              "Falak        60   50\n",
              "Shubham      65   60\n",
              "Riya         70   70"
            ]
          },
          "metadata": {},
          "execution_count": 44
        }
      ]
    },
    {
      "cell_type": "code",
      "metadata": {
        "colab": {
          "base_uri": "https://localhost:8080/",
          "height": 295
        },
        "id": "xOV6ThFkBrhI",
        "outputId": "b5b56905-cab4-4b6a-caed-359db2a72847"
      },
      "source": [
        "df\n"
      ],
      "execution_count": 45,
      "outputs": [
        {
          "output_type": "execute_result",
          "data": {
            "text/html": [
              "<div>\n",
              "<style scoped>\n",
              "    .dataframe tbody tr th:only-of-type {\n",
              "        vertical-align: middle;\n",
              "    }\n",
              "\n",
              "    .dataframe tbody tr th {\n",
              "        vertical-align: top;\n",
              "    }\n",
              "\n",
              "    .dataframe thead th {\n",
              "        text-align: right;\n",
              "    }\n",
              "</style>\n",
              "<table border=\"1\" class=\"dataframe\">\n",
              "  <thead>\n",
              "    <tr style=\"text-align: right;\">\n",
              "      <th></th>\n",
              "      <th>Age</th>\n",
              "      <th>Gender</th>\n",
              "      <th>Height</th>\n",
              "      <th>Weight</th>\n",
              "    </tr>\n",
              "  </thead>\n",
              "  <tbody>\n",
              "    <tr>\n",
              "      <th>Aryan</th>\n",
              "      <td>10</td>\n",
              "      <td>Male</td>\n",
              "      <td>120</td>\n",
              "      <td>40</td>\n",
              "    </tr>\n",
              "    <tr>\n",
              "      <th>Anurag</th>\n",
              "      <td>20</td>\n",
              "      <td>Male</td>\n",
              "      <td>130</td>\n",
              "      <td>45</td>\n",
              "    </tr>\n",
              "    <tr>\n",
              "      <th>Chandan</th>\n",
              "      <td>30</td>\n",
              "      <td>Female</td>\n",
              "      <td>140</td>\n",
              "      <td>50</td>\n",
              "    </tr>\n",
              "    <tr>\n",
              "      <th>Dilip</th>\n",
              "      <td>40</td>\n",
              "      <td>Female</td>\n",
              "      <td>150</td>\n",
              "      <td>55</td>\n",
              "    </tr>\n",
              "    <tr>\n",
              "      <th>Falak</th>\n",
              "      <td>50</td>\n",
              "      <td>Male</td>\n",
              "      <td>160</td>\n",
              "      <td>60</td>\n",
              "    </tr>\n",
              "    <tr>\n",
              "      <th>Shubham</th>\n",
              "      <td>60</td>\n",
              "      <td>Male</td>\n",
              "      <td>170</td>\n",
              "      <td>65</td>\n",
              "    </tr>\n",
              "    <tr>\n",
              "      <th>Riya</th>\n",
              "      <td>70</td>\n",
              "      <td>Female</td>\n",
              "      <td>155</td>\n",
              "      <td>70</td>\n",
              "    </tr>\n",
              "    <tr>\n",
              "      <th>Rakesh</th>\n",
              "      <td>80</td>\n",
              "      <td>Female</td>\n",
              "      <td>175</td>\n",
              "      <td>75</td>\n",
              "    </tr>\n",
              "  </tbody>\n",
              "</table>\n",
              "</div>"
            ],
            "text/plain": [
              "         Age  Gender  Height  Weight\n",
              "Aryan     10    Male     120      40\n",
              "Anurag    20    Male     130      45\n",
              "Chandan   30  Female     140      50\n",
              "Dilip     40  Female     150      55\n",
              "Falak     50    Male     160      60\n",
              "Shubham   60    Male     170      65\n",
              "Riya      70  Female     155      70\n",
              "Rakesh    80  Female     175      75"
            ]
          },
          "metadata": {},
          "execution_count": 45
        }
      ]
    },
    {
      "cell_type": "code",
      "metadata": {
        "colab": {
          "base_uri": "https://localhost:8080/"
        },
        "id": "DeqLzHfxBvsa",
        "outputId": "bc7e9088-aa92-4baa-d3f6-33dccf1befc9"
      },
      "source": [
        "df.iloc[3]"
      ],
      "execution_count": 46,
      "outputs": [
        {
          "output_type": "execute_result",
          "data": {
            "text/plain": [
              "Age           40\n",
              "Gender    Female\n",
              "Height       150\n",
              "Weight        55\n",
              "Name: Dilip, dtype: object"
            ]
          },
          "metadata": {},
          "execution_count": 46
        }
      ]
    },
    {
      "cell_type": "code",
      "metadata": {
        "colab": {
          "base_uri": "https://localhost:8080/"
        },
        "id": "KbMo9gFGByn_",
        "outputId": "e0d91237-eee4-45da-87ff-52c8c17275ae"
      },
      "source": [
        "df.iloc[-2]"
      ],
      "execution_count": 47,
      "outputs": [
        {
          "output_type": "execute_result",
          "data": {
            "text/plain": [
              "Age           70\n",
              "Gender    Female\n",
              "Height       155\n",
              "Weight        70\n",
              "Name: Riya, dtype: object"
            ]
          },
          "metadata": {},
          "execution_count": 47
        }
      ]
    },
    {
      "cell_type": "code",
      "metadata": {
        "colab": {
          "base_uri": "https://localhost:8080/"
        },
        "id": "y87Dlj4DB3Du",
        "outputId": "fec74a70-3500-4eeb-f6b8-805aa853e7d4"
      },
      "source": [
        "df.iloc[0,3]"
      ],
      "execution_count": 52,
      "outputs": [
        {
          "output_type": "execute_result",
          "data": {
            "text/plain": [
              "40"
            ]
          },
          "metadata": {},
          "execution_count": 52
        }
      ]
    },
    {
      "cell_type": "code",
      "metadata": {
        "colab": {
          "base_uri": "https://localhost:8080/",
          "height": 172
        },
        "id": "yk2eea2ZCOcG",
        "outputId": "e9f128d2-11ea-463f-86dd-a4f8f4a8ecf0"
      },
      "source": [
        "df.iloc[[1,2,3,-1]]"
      ],
      "execution_count": 57,
      "outputs": [
        {
          "output_type": "execute_result",
          "data": {
            "text/html": [
              "<div>\n",
              "<style scoped>\n",
              "    .dataframe tbody tr th:only-of-type {\n",
              "        vertical-align: middle;\n",
              "    }\n",
              "\n",
              "    .dataframe tbody tr th {\n",
              "        vertical-align: top;\n",
              "    }\n",
              "\n",
              "    .dataframe thead th {\n",
              "        text-align: right;\n",
              "    }\n",
              "</style>\n",
              "<table border=\"1\" class=\"dataframe\">\n",
              "  <thead>\n",
              "    <tr style=\"text-align: right;\">\n",
              "      <th></th>\n",
              "      <th>Age</th>\n",
              "      <th>Gender</th>\n",
              "      <th>Height</th>\n",
              "      <th>Weight</th>\n",
              "    </tr>\n",
              "  </thead>\n",
              "  <tbody>\n",
              "    <tr>\n",
              "      <th>Anurag</th>\n",
              "      <td>20</td>\n",
              "      <td>Male</td>\n",
              "      <td>130</td>\n",
              "      <td>45</td>\n",
              "    </tr>\n",
              "    <tr>\n",
              "      <th>Chandan</th>\n",
              "      <td>30</td>\n",
              "      <td>Female</td>\n",
              "      <td>140</td>\n",
              "      <td>50</td>\n",
              "    </tr>\n",
              "    <tr>\n",
              "      <th>Dilip</th>\n",
              "      <td>40</td>\n",
              "      <td>Female</td>\n",
              "      <td>150</td>\n",
              "      <td>55</td>\n",
              "    </tr>\n",
              "    <tr>\n",
              "      <th>Rakesh</th>\n",
              "      <td>80</td>\n",
              "      <td>Female</td>\n",
              "      <td>175</td>\n",
              "      <td>75</td>\n",
              "    </tr>\n",
              "  </tbody>\n",
              "</table>\n",
              "</div>"
            ],
            "text/plain": [
              "         Age  Gender  Height  Weight\n",
              "Anurag    20    Male     130      45\n",
              "Chandan   30  Female     140      50\n",
              "Dilip     40  Female     150      55\n",
              "Rakesh    80  Female     175      75"
            ]
          },
          "metadata": {},
          "execution_count": 57
        }
      ]
    },
    {
      "cell_type": "code",
      "metadata": {
        "colab": {
          "base_uri": "https://localhost:8080/",
          "height": 172
        },
        "id": "GuffvIJKClWG",
        "outputId": "7d14e23c-0051-4869-e015-ad77de1b6a46"
      },
      "source": [
        "df.iloc[1:5]"
      ],
      "execution_count": 58,
      "outputs": [
        {
          "output_type": "execute_result",
          "data": {
            "text/html": [
              "<div>\n",
              "<style scoped>\n",
              "    .dataframe tbody tr th:only-of-type {\n",
              "        vertical-align: middle;\n",
              "    }\n",
              "\n",
              "    .dataframe tbody tr th {\n",
              "        vertical-align: top;\n",
              "    }\n",
              "\n",
              "    .dataframe thead th {\n",
              "        text-align: right;\n",
              "    }\n",
              "</style>\n",
              "<table border=\"1\" class=\"dataframe\">\n",
              "  <thead>\n",
              "    <tr style=\"text-align: right;\">\n",
              "      <th></th>\n",
              "      <th>Age</th>\n",
              "      <th>Gender</th>\n",
              "      <th>Height</th>\n",
              "      <th>Weight</th>\n",
              "    </tr>\n",
              "  </thead>\n",
              "  <tbody>\n",
              "    <tr>\n",
              "      <th>Anurag</th>\n",
              "      <td>20</td>\n",
              "      <td>Male</td>\n",
              "      <td>130</td>\n",
              "      <td>45</td>\n",
              "    </tr>\n",
              "    <tr>\n",
              "      <th>Chandan</th>\n",
              "      <td>30</td>\n",
              "      <td>Female</td>\n",
              "      <td>140</td>\n",
              "      <td>50</td>\n",
              "    </tr>\n",
              "    <tr>\n",
              "      <th>Dilip</th>\n",
              "      <td>40</td>\n",
              "      <td>Female</td>\n",
              "      <td>150</td>\n",
              "      <td>55</td>\n",
              "    </tr>\n",
              "    <tr>\n",
              "      <th>Falak</th>\n",
              "      <td>50</td>\n",
              "      <td>Male</td>\n",
              "      <td>160</td>\n",
              "      <td>60</td>\n",
              "    </tr>\n",
              "  </tbody>\n",
              "</table>\n",
              "</div>"
            ],
            "text/plain": [
              "         Age  Gender  Height  Weight\n",
              "Anurag    20    Male     130      45\n",
              "Chandan   30  Female     140      50\n",
              "Dilip     40  Female     150      55\n",
              "Falak     50    Male     160      60"
            ]
          },
          "metadata": {},
          "execution_count": 58
        }
      ]
    },
    {
      "cell_type": "code",
      "metadata": {
        "colab": {
          "base_uri": "https://localhost:8080/"
        },
        "id": "QS7ttJDGCyr2",
        "outputId": "a38f0a9a-514a-480d-9901-0fdee2168edf"
      },
      "source": [
        "df.iloc[1:6,2]"
      ],
      "execution_count": 60,
      "outputs": [
        {
          "output_type": "execute_result",
          "data": {
            "text/plain": [
              "Anurag     130\n",
              "Chandan    140\n",
              "Dilip      150\n",
              "Falak      160\n",
              "Shubham    170\n",
              "Name: Height, dtype: int64"
            ]
          },
          "metadata": {},
          "execution_count": 60
        }
      ]
    },
    {
      "cell_type": "code",
      "metadata": {
        "colab": {
          "base_uri": "https://localhost:8080/",
          "height": 172
        },
        "id": "QIFqDYisC6Ch",
        "outputId": "de57b3dd-f314-4055-c89f-4561d1f4fa81"
      },
      "source": [
        "df.iloc[1:5,[0,2]]"
      ],
      "execution_count": 62,
      "outputs": [
        {
          "output_type": "execute_result",
          "data": {
            "text/html": [
              "<div>\n",
              "<style scoped>\n",
              "    .dataframe tbody tr th:only-of-type {\n",
              "        vertical-align: middle;\n",
              "    }\n",
              "\n",
              "    .dataframe tbody tr th {\n",
              "        vertical-align: top;\n",
              "    }\n",
              "\n",
              "    .dataframe thead th {\n",
              "        text-align: right;\n",
              "    }\n",
              "</style>\n",
              "<table border=\"1\" class=\"dataframe\">\n",
              "  <thead>\n",
              "    <tr style=\"text-align: right;\">\n",
              "      <th></th>\n",
              "      <th>Age</th>\n",
              "      <th>Height</th>\n",
              "    </tr>\n",
              "  </thead>\n",
              "  <tbody>\n",
              "    <tr>\n",
              "      <th>Anurag</th>\n",
              "      <td>20</td>\n",
              "      <td>130</td>\n",
              "    </tr>\n",
              "    <tr>\n",
              "      <th>Chandan</th>\n",
              "      <td>30</td>\n",
              "      <td>140</td>\n",
              "    </tr>\n",
              "    <tr>\n",
              "      <th>Dilip</th>\n",
              "      <td>40</td>\n",
              "      <td>150</td>\n",
              "    </tr>\n",
              "    <tr>\n",
              "      <th>Falak</th>\n",
              "      <td>50</td>\n",
              "      <td>160</td>\n",
              "    </tr>\n",
              "  </tbody>\n",
              "</table>\n",
              "</div>"
            ],
            "text/plain": [
              "         Age  Height\n",
              "Anurag    20     130\n",
              "Chandan   30     140\n",
              "Dilip     40     150\n",
              "Falak     50     160"
            ]
          },
          "metadata": {},
          "execution_count": 62
        }
      ]
    },
    {
      "cell_type": "code",
      "metadata": {
        "colab": {
          "base_uri": "https://localhost:8080/",
          "height": 172
        },
        "id": "pAn-C1GLDDMp",
        "outputId": "e514725b-8a50-4bf4-bab8-8b37a8a9fb3c"
      },
      "source": [
        "df.iloc[0:4,0:5]"
      ],
      "execution_count": 64,
      "outputs": [
        {
          "output_type": "execute_result",
          "data": {
            "text/html": [
              "<div>\n",
              "<style scoped>\n",
              "    .dataframe tbody tr th:only-of-type {\n",
              "        vertical-align: middle;\n",
              "    }\n",
              "\n",
              "    .dataframe tbody tr th {\n",
              "        vertical-align: top;\n",
              "    }\n",
              "\n",
              "    .dataframe thead th {\n",
              "        text-align: right;\n",
              "    }\n",
              "</style>\n",
              "<table border=\"1\" class=\"dataframe\">\n",
              "  <thead>\n",
              "    <tr style=\"text-align: right;\">\n",
              "      <th></th>\n",
              "      <th>Age</th>\n",
              "      <th>Gender</th>\n",
              "      <th>Height</th>\n",
              "      <th>Weight</th>\n",
              "    </tr>\n",
              "  </thead>\n",
              "  <tbody>\n",
              "    <tr>\n",
              "      <th>Aryan</th>\n",
              "      <td>10</td>\n",
              "      <td>Male</td>\n",
              "      <td>120</td>\n",
              "      <td>40</td>\n",
              "    </tr>\n",
              "    <tr>\n",
              "      <th>Anurag</th>\n",
              "      <td>20</td>\n",
              "      <td>Male</td>\n",
              "      <td>130</td>\n",
              "      <td>45</td>\n",
              "    </tr>\n",
              "    <tr>\n",
              "      <th>Chandan</th>\n",
              "      <td>30</td>\n",
              "      <td>Female</td>\n",
              "      <td>140</td>\n",
              "      <td>50</td>\n",
              "    </tr>\n",
              "    <tr>\n",
              "      <th>Dilip</th>\n",
              "      <td>40</td>\n",
              "      <td>Female</td>\n",
              "      <td>150</td>\n",
              "      <td>55</td>\n",
              "    </tr>\n",
              "  </tbody>\n",
              "</table>\n",
              "</div>"
            ],
            "text/plain": [
              "         Age  Gender  Height  Weight\n",
              "Aryan     10    Male     120      40\n",
              "Anurag    20    Male     130      45\n",
              "Chandan   30  Female     140      50\n",
              "Dilip     40  Female     150      55"
            ]
          },
          "metadata": {},
          "execution_count": 64
        }
      ]
    },
    {
      "cell_type": "code",
      "metadata": {
        "colab": {
          "base_uri": "https://localhost:8080/"
        },
        "id": "MuCVSwCxDNBI",
        "outputId": "df9f2c0f-544d-436d-a43f-9165f74ee0d5"
      },
      "source": [
        "df['Age']>45"
      ],
      "execution_count": 66,
      "outputs": [
        {
          "output_type": "execute_result",
          "data": {
            "text/plain": [
              "Aryan      False\n",
              "Anurag     False\n",
              "Chandan    False\n",
              "Dilip      False\n",
              "Falak       True\n",
              "Shubham     True\n",
              "Riya        True\n",
              "Rakesh      True\n",
              "Name: Age, dtype: bool"
            ]
          },
          "metadata": {},
          "execution_count": 66
        }
      ]
    },
    {
      "cell_type": "code",
      "metadata": {
        "colab": {
          "base_uri": "https://localhost:8080/",
          "height": 172
        },
        "id": "rl-IqYSgDWEU",
        "outputId": "9ae711b0-6659-47cf-850b-0f6f6ce1ac53"
      },
      "source": [
        "df.loc[df['Age']>45]"
      ],
      "execution_count": 67,
      "outputs": [
        {
          "output_type": "execute_result",
          "data": {
            "text/html": [
              "<div>\n",
              "<style scoped>\n",
              "    .dataframe tbody tr th:only-of-type {\n",
              "        vertical-align: middle;\n",
              "    }\n",
              "\n",
              "    .dataframe tbody tr th {\n",
              "        vertical-align: top;\n",
              "    }\n",
              "\n",
              "    .dataframe thead th {\n",
              "        text-align: right;\n",
              "    }\n",
              "</style>\n",
              "<table border=\"1\" class=\"dataframe\">\n",
              "  <thead>\n",
              "    <tr style=\"text-align: right;\">\n",
              "      <th></th>\n",
              "      <th>Age</th>\n",
              "      <th>Gender</th>\n",
              "      <th>Height</th>\n",
              "      <th>Weight</th>\n",
              "    </tr>\n",
              "  </thead>\n",
              "  <tbody>\n",
              "    <tr>\n",
              "      <th>Falak</th>\n",
              "      <td>50</td>\n",
              "      <td>Male</td>\n",
              "      <td>160</td>\n",
              "      <td>60</td>\n",
              "    </tr>\n",
              "    <tr>\n",
              "      <th>Shubham</th>\n",
              "      <td>60</td>\n",
              "      <td>Male</td>\n",
              "      <td>170</td>\n",
              "      <td>65</td>\n",
              "    </tr>\n",
              "    <tr>\n",
              "      <th>Riya</th>\n",
              "      <td>70</td>\n",
              "      <td>Female</td>\n",
              "      <td>155</td>\n",
              "      <td>70</td>\n",
              "    </tr>\n",
              "    <tr>\n",
              "      <th>Rakesh</th>\n",
              "      <td>80</td>\n",
              "      <td>Female</td>\n",
              "      <td>175</td>\n",
              "      <td>75</td>\n",
              "    </tr>\n",
              "  </tbody>\n",
              "</table>\n",
              "</div>"
            ],
            "text/plain": [
              "         Age  Gender  Height  Weight\n",
              "Falak     50    Male     160      60\n",
              "Shubham   60    Male     170      65\n",
              "Riya      70  Female     155      70\n",
              "Rakesh    80  Female     175      75"
            ]
          },
          "metadata": {},
          "execution_count": 67
        }
      ]
    },
    {
      "cell_type": "code",
      "metadata": {
        "colab": {
          "base_uri": "https://localhost:8080/"
        },
        "id": "snGnsHXsDakR",
        "outputId": "04aaa4ed-471b-42c7-bf65-288d650405d1"
      },
      "source": [
        "df.loc[df['Weight']>50,'Weight']"
      ],
      "execution_count": 68,
      "outputs": [
        {
          "output_type": "execute_result",
          "data": {
            "text/plain": [
              "Dilip      55\n",
              "Falak      60\n",
              "Shubham    65\n",
              "Riya       70\n",
              "Rakesh     75\n",
              "Name: Weight, dtype: int64"
            ]
          },
          "metadata": {},
          "execution_count": 68
        }
      ]
    },
    {
      "cell_type": "code",
      "metadata": {
        "colab": {
          "base_uri": "https://localhost:8080/",
          "height": 203
        },
        "id": "b5h23fkGDmBe",
        "outputId": "3a80b85e-eb6b-4f25-c5f1-20803ec96a2c"
      },
      "source": [
        "df.loc[df['Weight']>50,['Weight','Height','Age']]"
      ],
      "execution_count": 70,
      "outputs": [
        {
          "output_type": "execute_result",
          "data": {
            "text/html": [
              "<div>\n",
              "<style scoped>\n",
              "    .dataframe tbody tr th:only-of-type {\n",
              "        vertical-align: middle;\n",
              "    }\n",
              "\n",
              "    .dataframe tbody tr th {\n",
              "        vertical-align: top;\n",
              "    }\n",
              "\n",
              "    .dataframe thead th {\n",
              "        text-align: right;\n",
              "    }\n",
              "</style>\n",
              "<table border=\"1\" class=\"dataframe\">\n",
              "  <thead>\n",
              "    <tr style=\"text-align: right;\">\n",
              "      <th></th>\n",
              "      <th>Weight</th>\n",
              "      <th>Height</th>\n",
              "      <th>Age</th>\n",
              "    </tr>\n",
              "  </thead>\n",
              "  <tbody>\n",
              "    <tr>\n",
              "      <th>Dilip</th>\n",
              "      <td>55</td>\n",
              "      <td>150</td>\n",
              "      <td>40</td>\n",
              "    </tr>\n",
              "    <tr>\n",
              "      <th>Falak</th>\n",
              "      <td>60</td>\n",
              "      <td>160</td>\n",
              "      <td>50</td>\n",
              "    </tr>\n",
              "    <tr>\n",
              "      <th>Shubham</th>\n",
              "      <td>65</td>\n",
              "      <td>170</td>\n",
              "      <td>60</td>\n",
              "    </tr>\n",
              "    <tr>\n",
              "      <th>Riya</th>\n",
              "      <td>70</td>\n",
              "      <td>155</td>\n",
              "      <td>70</td>\n",
              "    </tr>\n",
              "    <tr>\n",
              "      <th>Rakesh</th>\n",
              "      <td>75</td>\n",
              "      <td>175</td>\n",
              "      <td>80</td>\n",
              "    </tr>\n",
              "  </tbody>\n",
              "</table>\n",
              "</div>"
            ],
            "text/plain": [
              "         Weight  Height  Age\n",
              "Dilip        55     150   40\n",
              "Falak        60     160   50\n",
              "Shubham      65     170   60\n",
              "Riya         70     155   70\n",
              "Rakesh       75     175   80"
            ]
          },
          "metadata": {},
          "execution_count": 70
        }
      ]
    },
    {
      "cell_type": "code",
      "metadata": {
        "colab": {
          "base_uri": "https://localhost:8080/",
          "height": 265
        },
        "id": "IBStaeCBDvnJ",
        "outputId": "18268feb-4bc6-4f15-c30a-20b9fdeedb8f"
      },
      "source": [
        "df.drop('Rakesh')"
      ],
      "execution_count": 72,
      "outputs": [
        {
          "output_type": "execute_result",
          "data": {
            "text/html": [
              "<div>\n",
              "<style scoped>\n",
              "    .dataframe tbody tr th:only-of-type {\n",
              "        vertical-align: middle;\n",
              "    }\n",
              "\n",
              "    .dataframe tbody tr th {\n",
              "        vertical-align: top;\n",
              "    }\n",
              "\n",
              "    .dataframe thead th {\n",
              "        text-align: right;\n",
              "    }\n",
              "</style>\n",
              "<table border=\"1\" class=\"dataframe\">\n",
              "  <thead>\n",
              "    <tr style=\"text-align: right;\">\n",
              "      <th></th>\n",
              "      <th>Age</th>\n",
              "      <th>Gender</th>\n",
              "      <th>Height</th>\n",
              "      <th>Weight</th>\n",
              "    </tr>\n",
              "  </thead>\n",
              "  <tbody>\n",
              "    <tr>\n",
              "      <th>Aryan</th>\n",
              "      <td>10</td>\n",
              "      <td>Male</td>\n",
              "      <td>120</td>\n",
              "      <td>40</td>\n",
              "    </tr>\n",
              "    <tr>\n",
              "      <th>Anurag</th>\n",
              "      <td>20</td>\n",
              "      <td>Male</td>\n",
              "      <td>130</td>\n",
              "      <td>45</td>\n",
              "    </tr>\n",
              "    <tr>\n",
              "      <th>Chandan</th>\n",
              "      <td>30</td>\n",
              "      <td>Female</td>\n",
              "      <td>140</td>\n",
              "      <td>50</td>\n",
              "    </tr>\n",
              "    <tr>\n",
              "      <th>Dilip</th>\n",
              "      <td>40</td>\n",
              "      <td>Female</td>\n",
              "      <td>150</td>\n",
              "      <td>55</td>\n",
              "    </tr>\n",
              "    <tr>\n",
              "      <th>Falak</th>\n",
              "      <td>50</td>\n",
              "      <td>Male</td>\n",
              "      <td>160</td>\n",
              "      <td>60</td>\n",
              "    </tr>\n",
              "    <tr>\n",
              "      <th>Shubham</th>\n",
              "      <td>60</td>\n",
              "      <td>Male</td>\n",
              "      <td>170</td>\n",
              "      <td>65</td>\n",
              "    </tr>\n",
              "    <tr>\n",
              "      <th>Riya</th>\n",
              "      <td>70</td>\n",
              "      <td>Female</td>\n",
              "      <td>155</td>\n",
              "      <td>70</td>\n",
              "    </tr>\n",
              "  </tbody>\n",
              "</table>\n",
              "</div>"
            ],
            "text/plain": [
              "         Age  Gender  Height  Weight\n",
              "Aryan     10    Male     120      40\n",
              "Anurag    20    Male     130      45\n",
              "Chandan   30  Female     140      50\n",
              "Dilip     40  Female     150      55\n",
              "Falak     50    Male     160      60\n",
              "Shubham   60    Male     170      65\n",
              "Riya      70  Female     155      70"
            ]
          },
          "metadata": {},
          "execution_count": 72
        }
      ]
    },
    {
      "cell_type": "code",
      "metadata": {
        "colab": {
          "base_uri": "https://localhost:8080/",
          "height": 234
        },
        "id": "j-0STmI6D-KD",
        "outputId": "3842be5c-9b9a-43d2-f8b5-1feda6cae06b"
      },
      "source": [
        "df.drop(['Shubham','Riya'])"
      ],
      "execution_count": 73,
      "outputs": [
        {
          "output_type": "execute_result",
          "data": {
            "text/html": [
              "<div>\n",
              "<style scoped>\n",
              "    .dataframe tbody tr th:only-of-type {\n",
              "        vertical-align: middle;\n",
              "    }\n",
              "\n",
              "    .dataframe tbody tr th {\n",
              "        vertical-align: top;\n",
              "    }\n",
              "\n",
              "    .dataframe thead th {\n",
              "        text-align: right;\n",
              "    }\n",
              "</style>\n",
              "<table border=\"1\" class=\"dataframe\">\n",
              "  <thead>\n",
              "    <tr style=\"text-align: right;\">\n",
              "      <th></th>\n",
              "      <th>Age</th>\n",
              "      <th>Gender</th>\n",
              "      <th>Height</th>\n",
              "      <th>Weight</th>\n",
              "    </tr>\n",
              "  </thead>\n",
              "  <tbody>\n",
              "    <tr>\n",
              "      <th>Aryan</th>\n",
              "      <td>10</td>\n",
              "      <td>Male</td>\n",
              "      <td>120</td>\n",
              "      <td>40</td>\n",
              "    </tr>\n",
              "    <tr>\n",
              "      <th>Anurag</th>\n",
              "      <td>20</td>\n",
              "      <td>Male</td>\n",
              "      <td>130</td>\n",
              "      <td>45</td>\n",
              "    </tr>\n",
              "    <tr>\n",
              "      <th>Chandan</th>\n",
              "      <td>30</td>\n",
              "      <td>Female</td>\n",
              "      <td>140</td>\n",
              "      <td>50</td>\n",
              "    </tr>\n",
              "    <tr>\n",
              "      <th>Dilip</th>\n",
              "      <td>40</td>\n",
              "      <td>Female</td>\n",
              "      <td>150</td>\n",
              "      <td>55</td>\n",
              "    </tr>\n",
              "    <tr>\n",
              "      <th>Falak</th>\n",
              "      <td>50</td>\n",
              "      <td>Male</td>\n",
              "      <td>160</td>\n",
              "      <td>60</td>\n",
              "    </tr>\n",
              "    <tr>\n",
              "      <th>Rakesh</th>\n",
              "      <td>80</td>\n",
              "      <td>Female</td>\n",
              "      <td>175</td>\n",
              "      <td>75</td>\n",
              "    </tr>\n",
              "  </tbody>\n",
              "</table>\n",
              "</div>"
            ],
            "text/plain": [
              "         Age  Gender  Height  Weight\n",
              "Aryan     10    Male     120      40\n",
              "Anurag    20    Male     130      45\n",
              "Chandan   30  Female     140      50\n",
              "Dilip     40  Female     150      55\n",
              "Falak     50    Male     160      60\n",
              "Rakesh    80  Female     175      75"
            ]
          },
          "metadata": {},
          "execution_count": 73
        }
      ]
    },
    {
      "cell_type": "code",
      "metadata": {
        "colab": {
          "base_uri": "https://localhost:8080/",
          "height": 295
        },
        "id": "GXWDbqrvEEhR",
        "outputId": "001f74e3-f170-415a-908b-c9dd624e8ae3"
      },
      "source": [
        "df.drop(columns=['Age','Weight'])"
      ],
      "execution_count": 74,
      "outputs": [
        {
          "output_type": "execute_result",
          "data": {
            "text/html": [
              "<div>\n",
              "<style scoped>\n",
              "    .dataframe tbody tr th:only-of-type {\n",
              "        vertical-align: middle;\n",
              "    }\n",
              "\n",
              "    .dataframe tbody tr th {\n",
              "        vertical-align: top;\n",
              "    }\n",
              "\n",
              "    .dataframe thead th {\n",
              "        text-align: right;\n",
              "    }\n",
              "</style>\n",
              "<table border=\"1\" class=\"dataframe\">\n",
              "  <thead>\n",
              "    <tr style=\"text-align: right;\">\n",
              "      <th></th>\n",
              "      <th>Gender</th>\n",
              "      <th>Height</th>\n",
              "    </tr>\n",
              "  </thead>\n",
              "  <tbody>\n",
              "    <tr>\n",
              "      <th>Aryan</th>\n",
              "      <td>Male</td>\n",
              "      <td>120</td>\n",
              "    </tr>\n",
              "    <tr>\n",
              "      <th>Anurag</th>\n",
              "      <td>Male</td>\n",
              "      <td>130</td>\n",
              "    </tr>\n",
              "    <tr>\n",
              "      <th>Chandan</th>\n",
              "      <td>Female</td>\n",
              "      <td>140</td>\n",
              "    </tr>\n",
              "    <tr>\n",
              "      <th>Dilip</th>\n",
              "      <td>Female</td>\n",
              "      <td>150</td>\n",
              "    </tr>\n",
              "    <tr>\n",
              "      <th>Falak</th>\n",
              "      <td>Male</td>\n",
              "      <td>160</td>\n",
              "    </tr>\n",
              "    <tr>\n",
              "      <th>Shubham</th>\n",
              "      <td>Male</td>\n",
              "      <td>170</td>\n",
              "    </tr>\n",
              "    <tr>\n",
              "      <th>Riya</th>\n",
              "      <td>Female</td>\n",
              "      <td>155</td>\n",
              "    </tr>\n",
              "    <tr>\n",
              "      <th>Rakesh</th>\n",
              "      <td>Female</td>\n",
              "      <td>175</td>\n",
              "    </tr>\n",
              "  </tbody>\n",
              "</table>\n",
              "</div>"
            ],
            "text/plain": [
              "         Gender  Height\n",
              "Aryan      Male     120\n",
              "Anurag     Male     130\n",
              "Chandan  Female     140\n",
              "Dilip    Female     150\n",
              "Falak      Male     160\n",
              "Shubham    Male     170\n",
              "Riya     Female     155\n",
              "Rakesh   Female     175"
            ]
          },
          "metadata": {},
          "execution_count": 74
        }
      ]
    },
    {
      "cell_type": "code",
      "metadata": {
        "colab": {
          "base_uri": "https://localhost:8080/",
          "height": 234
        },
        "id": "BNeuET06EQz-",
        "outputId": "5814483d-0afd-42a4-cb56-fcb4a4140613"
      },
      "source": [
        "df.drop(['Aryan','Falak'],axis=0)"
      ],
      "execution_count": 77,
      "outputs": [
        {
          "output_type": "execute_result",
          "data": {
            "text/html": [
              "<div>\n",
              "<style scoped>\n",
              "    .dataframe tbody tr th:only-of-type {\n",
              "        vertical-align: middle;\n",
              "    }\n",
              "\n",
              "    .dataframe tbody tr th {\n",
              "        vertical-align: top;\n",
              "    }\n",
              "\n",
              "    .dataframe thead th {\n",
              "        text-align: right;\n",
              "    }\n",
              "</style>\n",
              "<table border=\"1\" class=\"dataframe\">\n",
              "  <thead>\n",
              "    <tr style=\"text-align: right;\">\n",
              "      <th></th>\n",
              "      <th>Age</th>\n",
              "      <th>Gender</th>\n",
              "      <th>Height</th>\n",
              "      <th>Weight</th>\n",
              "    </tr>\n",
              "  </thead>\n",
              "  <tbody>\n",
              "    <tr>\n",
              "      <th>Anurag</th>\n",
              "      <td>20</td>\n",
              "      <td>Male</td>\n",
              "      <td>130</td>\n",
              "      <td>45</td>\n",
              "    </tr>\n",
              "    <tr>\n",
              "      <th>Chandan</th>\n",
              "      <td>30</td>\n",
              "      <td>Female</td>\n",
              "      <td>140</td>\n",
              "      <td>50</td>\n",
              "    </tr>\n",
              "    <tr>\n",
              "      <th>Dilip</th>\n",
              "      <td>40</td>\n",
              "      <td>Female</td>\n",
              "      <td>150</td>\n",
              "      <td>55</td>\n",
              "    </tr>\n",
              "    <tr>\n",
              "      <th>Shubham</th>\n",
              "      <td>60</td>\n",
              "      <td>Male</td>\n",
              "      <td>170</td>\n",
              "      <td>65</td>\n",
              "    </tr>\n",
              "    <tr>\n",
              "      <th>Riya</th>\n",
              "      <td>70</td>\n",
              "      <td>Female</td>\n",
              "      <td>155</td>\n",
              "      <td>70</td>\n",
              "    </tr>\n",
              "    <tr>\n",
              "      <th>Rakesh</th>\n",
              "      <td>80</td>\n",
              "      <td>Female</td>\n",
              "      <td>175</td>\n",
              "      <td>75</td>\n",
              "    </tr>\n",
              "  </tbody>\n",
              "</table>\n",
              "</div>"
            ],
            "text/plain": [
              "         Age  Gender  Height  Weight\n",
              "Anurag    20    Male     130      45\n",
              "Chandan   30  Female     140      50\n",
              "Dilip     40  Female     150      55\n",
              "Shubham   60    Male     170      65\n",
              "Riya      70  Female     155      70\n",
              "Rakesh    80  Female     175      75"
            ]
          },
          "metadata": {},
          "execution_count": 77
        }
      ]
    },
    {
      "cell_type": "code",
      "metadata": {
        "colab": {
          "base_uri": "https://localhost:8080/",
          "height": 295
        },
        "id": "EuEcQJCyEkNI",
        "outputId": "d1f7c90c-8579-4402-8b7c-26aac28534ba"
      },
      "source": [
        "df.drop(['Age'],axis=1)"
      ],
      "execution_count": 79,
      "outputs": [
        {
          "output_type": "execute_result",
          "data": {
            "text/html": [
              "<div>\n",
              "<style scoped>\n",
              "    .dataframe tbody tr th:only-of-type {\n",
              "        vertical-align: middle;\n",
              "    }\n",
              "\n",
              "    .dataframe tbody tr th {\n",
              "        vertical-align: top;\n",
              "    }\n",
              "\n",
              "    .dataframe thead th {\n",
              "        text-align: right;\n",
              "    }\n",
              "</style>\n",
              "<table border=\"1\" class=\"dataframe\">\n",
              "  <thead>\n",
              "    <tr style=\"text-align: right;\">\n",
              "      <th></th>\n",
              "      <th>Gender</th>\n",
              "      <th>Height</th>\n",
              "      <th>Weight</th>\n",
              "    </tr>\n",
              "  </thead>\n",
              "  <tbody>\n",
              "    <tr>\n",
              "      <th>Aryan</th>\n",
              "      <td>Male</td>\n",
              "      <td>120</td>\n",
              "      <td>40</td>\n",
              "    </tr>\n",
              "    <tr>\n",
              "      <th>Anurag</th>\n",
              "      <td>Male</td>\n",
              "      <td>130</td>\n",
              "      <td>45</td>\n",
              "    </tr>\n",
              "    <tr>\n",
              "      <th>Chandan</th>\n",
              "      <td>Female</td>\n",
              "      <td>140</td>\n",
              "      <td>50</td>\n",
              "    </tr>\n",
              "    <tr>\n",
              "      <th>Dilip</th>\n",
              "      <td>Female</td>\n",
              "      <td>150</td>\n",
              "      <td>55</td>\n",
              "    </tr>\n",
              "    <tr>\n",
              "      <th>Falak</th>\n",
              "      <td>Male</td>\n",
              "      <td>160</td>\n",
              "      <td>60</td>\n",
              "    </tr>\n",
              "    <tr>\n",
              "      <th>Shubham</th>\n",
              "      <td>Male</td>\n",
              "      <td>170</td>\n",
              "      <td>65</td>\n",
              "    </tr>\n",
              "    <tr>\n",
              "      <th>Riya</th>\n",
              "      <td>Female</td>\n",
              "      <td>155</td>\n",
              "      <td>70</td>\n",
              "    </tr>\n",
              "    <tr>\n",
              "      <th>Rakesh</th>\n",
              "      <td>Female</td>\n",
              "      <td>175</td>\n",
              "      <td>75</td>\n",
              "    </tr>\n",
              "  </tbody>\n",
              "</table>\n",
              "</div>"
            ],
            "text/plain": [
              "         Gender  Height  Weight\n",
              "Aryan      Male     120      40\n",
              "Anurag     Male     130      45\n",
              "Chandan  Female     140      50\n",
              "Dilip    Female     150      55\n",
              "Falak      Male     160      60\n",
              "Shubham    Male     170      65\n",
              "Riya     Female     155      70\n",
              "Rakesh   Female     175      75"
            ]
          },
          "metadata": {},
          "execution_count": 79
        }
      ]
    },
    {
      "cell_type": "code",
      "metadata": {
        "colab": {
          "base_uri": "https://localhost:8080/",
          "height": 295
        },
        "id": "LuDnXQfMErC_",
        "outputId": "b936f59e-0529-40d4-e180-42cfc88a34d9"
      },
      "source": [
        "df.drop(['Weight'],axis='columns')"
      ],
      "execution_count": 80,
      "outputs": [
        {
          "output_type": "execute_result",
          "data": {
            "text/html": [
              "<div>\n",
              "<style scoped>\n",
              "    .dataframe tbody tr th:only-of-type {\n",
              "        vertical-align: middle;\n",
              "    }\n",
              "\n",
              "    .dataframe tbody tr th {\n",
              "        vertical-align: top;\n",
              "    }\n",
              "\n",
              "    .dataframe thead th {\n",
              "        text-align: right;\n",
              "    }\n",
              "</style>\n",
              "<table border=\"1\" class=\"dataframe\">\n",
              "  <thead>\n",
              "    <tr style=\"text-align: right;\">\n",
              "      <th></th>\n",
              "      <th>Age</th>\n",
              "      <th>Gender</th>\n",
              "      <th>Height</th>\n",
              "    </tr>\n",
              "  </thead>\n",
              "  <tbody>\n",
              "    <tr>\n",
              "      <th>Aryan</th>\n",
              "      <td>10</td>\n",
              "      <td>Male</td>\n",
              "      <td>120</td>\n",
              "    </tr>\n",
              "    <tr>\n",
              "      <th>Anurag</th>\n",
              "      <td>20</td>\n",
              "      <td>Male</td>\n",
              "      <td>130</td>\n",
              "    </tr>\n",
              "    <tr>\n",
              "      <th>Chandan</th>\n",
              "      <td>30</td>\n",
              "      <td>Female</td>\n",
              "      <td>140</td>\n",
              "    </tr>\n",
              "    <tr>\n",
              "      <th>Dilip</th>\n",
              "      <td>40</td>\n",
              "      <td>Female</td>\n",
              "      <td>150</td>\n",
              "    </tr>\n",
              "    <tr>\n",
              "      <th>Falak</th>\n",
              "      <td>50</td>\n",
              "      <td>Male</td>\n",
              "      <td>160</td>\n",
              "    </tr>\n",
              "    <tr>\n",
              "      <th>Shubham</th>\n",
              "      <td>60</td>\n",
              "      <td>Male</td>\n",
              "      <td>170</td>\n",
              "    </tr>\n",
              "    <tr>\n",
              "      <th>Riya</th>\n",
              "      <td>70</td>\n",
              "      <td>Female</td>\n",
              "      <td>155</td>\n",
              "    </tr>\n",
              "    <tr>\n",
              "      <th>Rakesh</th>\n",
              "      <td>80</td>\n",
              "      <td>Female</td>\n",
              "      <td>175</td>\n",
              "    </tr>\n",
              "  </tbody>\n",
              "</table>\n",
              "</div>"
            ],
            "text/plain": [
              "         Age  Gender  Height\n",
              "Aryan     10    Male     120\n",
              "Anurag    20    Male     130\n",
              "Chandan   30  Female     140\n",
              "Dilip     40  Female     150\n",
              "Falak     50    Male     160\n",
              "Shubham   60    Male     170\n",
              "Riya      70  Female     155\n",
              "Rakesh    80  Female     175"
            ]
          },
          "metadata": {},
          "execution_count": 80
        }
      ]
    },
    {
      "cell_type": "code",
      "metadata": {
        "colab": {
          "base_uri": "https://localhost:8080/",
          "height": 265
        },
        "id": "rOaP5YyYE3VI",
        "outputId": "ffe5ccca-a7e5-462f-8088-1ac78e63e320"
      },
      "source": [
        "df.drop(['Aryan'],axis='rows')"
      ],
      "execution_count": 81,
      "outputs": [
        {
          "output_type": "execute_result",
          "data": {
            "text/html": [
              "<div>\n",
              "<style scoped>\n",
              "    .dataframe tbody tr th:only-of-type {\n",
              "        vertical-align: middle;\n",
              "    }\n",
              "\n",
              "    .dataframe tbody tr th {\n",
              "        vertical-align: top;\n",
              "    }\n",
              "\n",
              "    .dataframe thead th {\n",
              "        text-align: right;\n",
              "    }\n",
              "</style>\n",
              "<table border=\"1\" class=\"dataframe\">\n",
              "  <thead>\n",
              "    <tr style=\"text-align: right;\">\n",
              "      <th></th>\n",
              "      <th>Age</th>\n",
              "      <th>Gender</th>\n",
              "      <th>Height</th>\n",
              "      <th>Weight</th>\n",
              "    </tr>\n",
              "  </thead>\n",
              "  <tbody>\n",
              "    <tr>\n",
              "      <th>Anurag</th>\n",
              "      <td>20</td>\n",
              "      <td>Male</td>\n",
              "      <td>130</td>\n",
              "      <td>45</td>\n",
              "    </tr>\n",
              "    <tr>\n",
              "      <th>Chandan</th>\n",
              "      <td>30</td>\n",
              "      <td>Female</td>\n",
              "      <td>140</td>\n",
              "      <td>50</td>\n",
              "    </tr>\n",
              "    <tr>\n",
              "      <th>Dilip</th>\n",
              "      <td>40</td>\n",
              "      <td>Female</td>\n",
              "      <td>150</td>\n",
              "      <td>55</td>\n",
              "    </tr>\n",
              "    <tr>\n",
              "      <th>Falak</th>\n",
              "      <td>50</td>\n",
              "      <td>Male</td>\n",
              "      <td>160</td>\n",
              "      <td>60</td>\n",
              "    </tr>\n",
              "    <tr>\n",
              "      <th>Shubham</th>\n",
              "      <td>60</td>\n",
              "      <td>Male</td>\n",
              "      <td>170</td>\n",
              "      <td>65</td>\n",
              "    </tr>\n",
              "    <tr>\n",
              "      <th>Riya</th>\n",
              "      <td>70</td>\n",
              "      <td>Female</td>\n",
              "      <td>155</td>\n",
              "      <td>70</td>\n",
              "    </tr>\n",
              "    <tr>\n",
              "      <th>Rakesh</th>\n",
              "      <td>80</td>\n",
              "      <td>Female</td>\n",
              "      <td>175</td>\n",
              "      <td>75</td>\n",
              "    </tr>\n",
              "  </tbody>\n",
              "</table>\n",
              "</div>"
            ],
            "text/plain": [
              "         Age  Gender  Height  Weight\n",
              "Anurag    20    Male     130      45\n",
              "Chandan   30  Female     140      50\n",
              "Dilip     40  Female     150      55\n",
              "Falak     50    Male     160      60\n",
              "Shubham   60    Male     170      65\n",
              "Riya      70  Female     155      70\n",
              "Rakesh    80  Female     175      75"
            ]
          },
          "metadata": {},
          "execution_count": 81
        }
      ]
    },
    {
      "cell_type": "code",
      "metadata": {
        "colab": {
          "base_uri": "https://localhost:8080/",
          "height": 295
        },
        "id": "c0UqQ3lLFN6l",
        "outputId": "2b7c4ce9-0470-46ec-95c9-a64231cc4300"
      },
      "source": [
        "df[['Age','Height']]"
      ],
      "execution_count": 82,
      "outputs": [
        {
          "output_type": "execute_result",
          "data": {
            "text/html": [
              "<div>\n",
              "<style scoped>\n",
              "    .dataframe tbody tr th:only-of-type {\n",
              "        vertical-align: middle;\n",
              "    }\n",
              "\n",
              "    .dataframe tbody tr th {\n",
              "        vertical-align: top;\n",
              "    }\n",
              "\n",
              "    .dataframe thead th {\n",
              "        text-align: right;\n",
              "    }\n",
              "</style>\n",
              "<table border=\"1\" class=\"dataframe\">\n",
              "  <thead>\n",
              "    <tr style=\"text-align: right;\">\n",
              "      <th></th>\n",
              "      <th>Age</th>\n",
              "      <th>Height</th>\n",
              "    </tr>\n",
              "  </thead>\n",
              "  <tbody>\n",
              "    <tr>\n",
              "      <th>Aryan</th>\n",
              "      <td>10</td>\n",
              "      <td>120</td>\n",
              "    </tr>\n",
              "    <tr>\n",
              "      <th>Anurag</th>\n",
              "      <td>20</td>\n",
              "      <td>130</td>\n",
              "    </tr>\n",
              "    <tr>\n",
              "      <th>Chandan</th>\n",
              "      <td>30</td>\n",
              "      <td>140</td>\n",
              "    </tr>\n",
              "    <tr>\n",
              "      <th>Dilip</th>\n",
              "      <td>40</td>\n",
              "      <td>150</td>\n",
              "    </tr>\n",
              "    <tr>\n",
              "      <th>Falak</th>\n",
              "      <td>50</td>\n",
              "      <td>160</td>\n",
              "    </tr>\n",
              "    <tr>\n",
              "      <th>Shubham</th>\n",
              "      <td>60</td>\n",
              "      <td>170</td>\n",
              "    </tr>\n",
              "    <tr>\n",
              "      <th>Riya</th>\n",
              "      <td>70</td>\n",
              "      <td>155</td>\n",
              "    </tr>\n",
              "    <tr>\n",
              "      <th>Rakesh</th>\n",
              "      <td>80</td>\n",
              "      <td>175</td>\n",
              "    </tr>\n",
              "  </tbody>\n",
              "</table>\n",
              "</div>"
            ],
            "text/plain": [
              "         Age  Height\n",
              "Aryan     10     120\n",
              "Anurag    20     130\n",
              "Chandan   30     140\n",
              "Dilip     40     150\n",
              "Falak     50     160\n",
              "Shubham   60     170\n",
              "Riya      70     155\n",
              "Rakesh    80     175"
            ]
          },
          "metadata": {},
          "execution_count": 82
        }
      ]
    },
    {
      "cell_type": "code",
      "metadata": {
        "colab": {
          "base_uri": "https://localhost:8080/",
          "height": 295
        },
        "id": "IM9XYSaRGGvM",
        "outputId": "edd2da58-8c42-4cad-ef1c-8c12264f620b"
      },
      "source": [
        "df[['Weight']]/10"
      ],
      "execution_count": 83,
      "outputs": [
        {
          "output_type": "execute_result",
          "data": {
            "text/html": [
              "<div>\n",
              "<style scoped>\n",
              "    .dataframe tbody tr th:only-of-type {\n",
              "        vertical-align: middle;\n",
              "    }\n",
              "\n",
              "    .dataframe tbody tr th {\n",
              "        vertical-align: top;\n",
              "    }\n",
              "\n",
              "    .dataframe thead th {\n",
              "        text-align: right;\n",
              "    }\n",
              "</style>\n",
              "<table border=\"1\" class=\"dataframe\">\n",
              "  <thead>\n",
              "    <tr style=\"text-align: right;\">\n",
              "      <th></th>\n",
              "      <th>Weight</th>\n",
              "    </tr>\n",
              "  </thead>\n",
              "  <tbody>\n",
              "    <tr>\n",
              "      <th>Aryan</th>\n",
              "      <td>4.0</td>\n",
              "    </tr>\n",
              "    <tr>\n",
              "      <th>Anurag</th>\n",
              "      <td>4.5</td>\n",
              "    </tr>\n",
              "    <tr>\n",
              "      <th>Chandan</th>\n",
              "      <td>5.0</td>\n",
              "    </tr>\n",
              "    <tr>\n",
              "      <th>Dilip</th>\n",
              "      <td>5.5</td>\n",
              "    </tr>\n",
              "    <tr>\n",
              "      <th>Falak</th>\n",
              "      <td>6.0</td>\n",
              "    </tr>\n",
              "    <tr>\n",
              "      <th>Shubham</th>\n",
              "      <td>6.5</td>\n",
              "    </tr>\n",
              "    <tr>\n",
              "      <th>Riya</th>\n",
              "      <td>7.0</td>\n",
              "    </tr>\n",
              "    <tr>\n",
              "      <th>Rakesh</th>\n",
              "      <td>7.5</td>\n",
              "    </tr>\n",
              "  </tbody>\n",
              "</table>\n",
              "</div>"
            ],
            "text/plain": [
              "         Weight\n",
              "Aryan       4.0\n",
              "Anurag      4.5\n",
              "Chandan     5.0\n",
              "Dilip       5.5\n",
              "Falak       6.0\n",
              "Shubham     6.5\n",
              "Riya        7.0\n",
              "Rakesh      7.5"
            ]
          },
          "metadata": {},
          "execution_count": 83
        }
      ]
    },
    {
      "cell_type": "code",
      "metadata": {
        "id": "Nzc4eP7DGP1V"
      },
      "source": [
        "changes=pd.Series([+100,-1],index=['Weight','Height'])"
      ],
      "execution_count": 88,
      "outputs": []
    },
    {
      "cell_type": "code",
      "metadata": {
        "colab": {
          "base_uri": "https://localhost:8080/",
          "height": 295
        },
        "id": "l9lyQwd3HAkv",
        "outputId": "94d60525-8d8f-4e0f-914d-bc638286d5c5"
      },
      "source": [
        "df[['Weight','Height']]+changes"
      ],
      "execution_count": 89,
      "outputs": [
        {
          "output_type": "execute_result",
          "data": {
            "text/html": [
              "<div>\n",
              "<style scoped>\n",
              "    .dataframe tbody tr th:only-of-type {\n",
              "        vertical-align: middle;\n",
              "    }\n",
              "\n",
              "    .dataframe tbody tr th {\n",
              "        vertical-align: top;\n",
              "    }\n",
              "\n",
              "    .dataframe thead th {\n",
              "        text-align: right;\n",
              "    }\n",
              "</style>\n",
              "<table border=\"1\" class=\"dataframe\">\n",
              "  <thead>\n",
              "    <tr style=\"text-align: right;\">\n",
              "      <th></th>\n",
              "      <th>Weight</th>\n",
              "      <th>Height</th>\n",
              "    </tr>\n",
              "  </thead>\n",
              "  <tbody>\n",
              "    <tr>\n",
              "      <th>Aryan</th>\n",
              "      <td>140</td>\n",
              "      <td>119</td>\n",
              "    </tr>\n",
              "    <tr>\n",
              "      <th>Anurag</th>\n",
              "      <td>145</td>\n",
              "      <td>129</td>\n",
              "    </tr>\n",
              "    <tr>\n",
              "      <th>Chandan</th>\n",
              "      <td>150</td>\n",
              "      <td>139</td>\n",
              "    </tr>\n",
              "    <tr>\n",
              "      <th>Dilip</th>\n",
              "      <td>155</td>\n",
              "      <td>149</td>\n",
              "    </tr>\n",
              "    <tr>\n",
              "      <th>Falak</th>\n",
              "      <td>160</td>\n",
              "      <td>159</td>\n",
              "    </tr>\n",
              "    <tr>\n",
              "      <th>Shubham</th>\n",
              "      <td>165</td>\n",
              "      <td>169</td>\n",
              "    </tr>\n",
              "    <tr>\n",
              "      <th>Riya</th>\n",
              "      <td>170</td>\n",
              "      <td>154</td>\n",
              "    </tr>\n",
              "    <tr>\n",
              "      <th>Rakesh</th>\n",
              "      <td>175</td>\n",
              "      <td>174</td>\n",
              "    </tr>\n",
              "  </tbody>\n",
              "</table>\n",
              "</div>"
            ],
            "text/plain": [
              "         Weight  Height\n",
              "Aryan       140     119\n",
              "Anurag      145     129\n",
              "Chandan     150     139\n",
              "Dilip       155     149\n",
              "Falak       160     159\n",
              "Shubham     165     169\n",
              "Riya        170     154\n",
              "Rakesh      175     174"
            ]
          },
          "metadata": {},
          "execution_count": 89
        }
      ]
    },
    {
      "cell_type": "code",
      "metadata": {
        "id": "BqMszHmdHdwH"
      },
      "source": [
        "newcol=pd.Series(['Married','Unmarried','Married','Married','Unmarried','Unmarried','Unmarried','Married'],\n",
        "                 index=['Aryan','Anurag','Chandan','Dilip','Falak','Shubham','Riya','Rakesh'],\n",
        "                 name='Marital Status')"
      ],
      "execution_count": 93,
      "outputs": []
    },
    {
      "cell_type": "code",
      "metadata": {
        "id": "pbJOfovyMVny"
      },
      "source": [
        "df['Marital Status']=newcol"
      ],
      "execution_count": 94,
      "outputs": []
    },
    {
      "cell_type": "code",
      "metadata": {
        "colab": {
          "base_uri": "https://localhost:8080/",
          "height": 295
        },
        "id": "tJ6cpq83MgmW",
        "outputId": "c041ea19-301f-4e4e-dab9-5e01e3de3cd0"
      },
      "source": [
        "df"
      ],
      "execution_count": 95,
      "outputs": [
        {
          "output_type": "execute_result",
          "data": {
            "text/html": [
              "<div>\n",
              "<style scoped>\n",
              "    .dataframe tbody tr th:only-of-type {\n",
              "        vertical-align: middle;\n",
              "    }\n",
              "\n",
              "    .dataframe tbody tr th {\n",
              "        vertical-align: top;\n",
              "    }\n",
              "\n",
              "    .dataframe thead th {\n",
              "        text-align: right;\n",
              "    }\n",
              "</style>\n",
              "<table border=\"1\" class=\"dataframe\">\n",
              "  <thead>\n",
              "    <tr style=\"text-align: right;\">\n",
              "      <th></th>\n",
              "      <th>Age</th>\n",
              "      <th>Gender</th>\n",
              "      <th>Height</th>\n",
              "      <th>Weight</th>\n",
              "      <th>Marital Status</th>\n",
              "    </tr>\n",
              "  </thead>\n",
              "  <tbody>\n",
              "    <tr>\n",
              "      <th>Aryan</th>\n",
              "      <td>10</td>\n",
              "      <td>Male</td>\n",
              "      <td>120</td>\n",
              "      <td>40</td>\n",
              "      <td>Married</td>\n",
              "    </tr>\n",
              "    <tr>\n",
              "      <th>Anurag</th>\n",
              "      <td>20</td>\n",
              "      <td>Male</td>\n",
              "      <td>130</td>\n",
              "      <td>45</td>\n",
              "      <td>Unmarried</td>\n",
              "    </tr>\n",
              "    <tr>\n",
              "      <th>Chandan</th>\n",
              "      <td>30</td>\n",
              "      <td>Female</td>\n",
              "      <td>140</td>\n",
              "      <td>50</td>\n",
              "      <td>Married</td>\n",
              "    </tr>\n",
              "    <tr>\n",
              "      <th>Dilip</th>\n",
              "      <td>40</td>\n",
              "      <td>Female</td>\n",
              "      <td>150</td>\n",
              "      <td>55</td>\n",
              "      <td>Married</td>\n",
              "    </tr>\n",
              "    <tr>\n",
              "      <th>Falak</th>\n",
              "      <td>50</td>\n",
              "      <td>Male</td>\n",
              "      <td>160</td>\n",
              "      <td>60</td>\n",
              "      <td>Unmarried</td>\n",
              "    </tr>\n",
              "    <tr>\n",
              "      <th>Shubham</th>\n",
              "      <td>60</td>\n",
              "      <td>Male</td>\n",
              "      <td>170</td>\n",
              "      <td>65</td>\n",
              "      <td>Unmarried</td>\n",
              "    </tr>\n",
              "    <tr>\n",
              "      <th>Riya</th>\n",
              "      <td>70</td>\n",
              "      <td>Female</td>\n",
              "      <td>155</td>\n",
              "      <td>70</td>\n",
              "      <td>Unmarried</td>\n",
              "    </tr>\n",
              "    <tr>\n",
              "      <th>Rakesh</th>\n",
              "      <td>80</td>\n",
              "      <td>Female</td>\n",
              "      <td>175</td>\n",
              "      <td>75</td>\n",
              "      <td>Married</td>\n",
              "    </tr>\n",
              "  </tbody>\n",
              "</table>\n",
              "</div>"
            ],
            "text/plain": [
              "         Age  Gender  Height  Weight Marital Status\n",
              "Aryan     10    Male     120      40        Married\n",
              "Anurag    20    Male     130      45      Unmarried\n",
              "Chandan   30  Female     140      50        Married\n",
              "Dilip     40  Female     150      55        Married\n",
              "Falak     50    Male     160      60      Unmarried\n",
              "Shubham   60    Male     170      65      Unmarried\n",
              "Riya      70  Female     155      70      Unmarried\n",
              "Rakesh    80  Female     175      75        Married"
            ]
          },
          "metadata": {},
          "execution_count": 95
        }
      ]
    },
    {
      "cell_type": "code",
      "metadata": {
        "colab": {
          "base_uri": "https://localhost:8080/",
          "height": 295
        },
        "id": "T_03y6MzMmRY",
        "outputId": "86934c5b-df32-4a3a-ae6b-dfa5b3e1612d"
      },
      "source": [
        "df.rename(columns={'Marital Status':'Marriage Status'},\n",
        "          index={'Shubham':'Mohan'})"
      ],
      "execution_count": 97,
      "outputs": [
        {
          "output_type": "execute_result",
          "data": {
            "text/html": [
              "<div>\n",
              "<style scoped>\n",
              "    .dataframe tbody tr th:only-of-type {\n",
              "        vertical-align: middle;\n",
              "    }\n",
              "\n",
              "    .dataframe tbody tr th {\n",
              "        vertical-align: top;\n",
              "    }\n",
              "\n",
              "    .dataframe thead th {\n",
              "        text-align: right;\n",
              "    }\n",
              "</style>\n",
              "<table border=\"1\" class=\"dataframe\">\n",
              "  <thead>\n",
              "    <tr style=\"text-align: right;\">\n",
              "      <th></th>\n",
              "      <th>Age</th>\n",
              "      <th>Gender</th>\n",
              "      <th>Height</th>\n",
              "      <th>Weight</th>\n",
              "      <th>Marriage Status</th>\n",
              "    </tr>\n",
              "  </thead>\n",
              "  <tbody>\n",
              "    <tr>\n",
              "      <th>Aryan</th>\n",
              "      <td>10</td>\n",
              "      <td>Male</td>\n",
              "      <td>120</td>\n",
              "      <td>40</td>\n",
              "      <td>Married</td>\n",
              "    </tr>\n",
              "    <tr>\n",
              "      <th>Anurag</th>\n",
              "      <td>20</td>\n",
              "      <td>Male</td>\n",
              "      <td>130</td>\n",
              "      <td>45</td>\n",
              "      <td>Unmarried</td>\n",
              "    </tr>\n",
              "    <tr>\n",
              "      <th>Chandan</th>\n",
              "      <td>30</td>\n",
              "      <td>Female</td>\n",
              "      <td>140</td>\n",
              "      <td>50</td>\n",
              "      <td>Married</td>\n",
              "    </tr>\n",
              "    <tr>\n",
              "      <th>Dilip</th>\n",
              "      <td>40</td>\n",
              "      <td>Female</td>\n",
              "      <td>150</td>\n",
              "      <td>55</td>\n",
              "      <td>Married</td>\n",
              "    </tr>\n",
              "    <tr>\n",
              "      <th>Falak</th>\n",
              "      <td>50</td>\n",
              "      <td>Male</td>\n",
              "      <td>160</td>\n",
              "      <td>60</td>\n",
              "      <td>Unmarried</td>\n",
              "    </tr>\n",
              "    <tr>\n",
              "      <th>Mohan</th>\n",
              "      <td>60</td>\n",
              "      <td>Male</td>\n",
              "      <td>170</td>\n",
              "      <td>65</td>\n",
              "      <td>Unmarried</td>\n",
              "    </tr>\n",
              "    <tr>\n",
              "      <th>Riya</th>\n",
              "      <td>70</td>\n",
              "      <td>Female</td>\n",
              "      <td>155</td>\n",
              "      <td>70</td>\n",
              "      <td>Unmarried</td>\n",
              "    </tr>\n",
              "    <tr>\n",
              "      <th>Rakesh</th>\n",
              "      <td>80</td>\n",
              "      <td>Female</td>\n",
              "      <td>175</td>\n",
              "      <td>75</td>\n",
              "      <td>Married</td>\n",
              "    </tr>\n",
              "  </tbody>\n",
              "</table>\n",
              "</div>"
            ],
            "text/plain": [
              "         Age  Gender  Height  Weight Marriage Status\n",
              "Aryan     10    Male     120      40         Married\n",
              "Anurag    20    Male     130      45       Unmarried\n",
              "Chandan   30  Female     140      50         Married\n",
              "Dilip     40  Female     150      55         Married\n",
              "Falak     50    Male     160      60       Unmarried\n",
              "Mohan     60    Male     170      65       Unmarried\n",
              "Riya      70  Female     155      70       Unmarried\n",
              "Rakesh    80  Female     175      75         Married"
            ]
          },
          "metadata": {},
          "execution_count": 97
        }
      ]
    },
    {
      "cell_type": "code",
      "metadata": {
        "colab": {
          "base_uri": "https://localhost:8080/",
          "height": 295
        },
        "id": "W8hwwvSGN_oG",
        "outputId": "6dba43e6-bd1a-4bae-fcd4-e9341e0b6a27"
      },
      "source": [
        "df.rename(str.upper)"
      ],
      "execution_count": 111,
      "outputs": [
        {
          "output_type": "execute_result",
          "data": {
            "text/html": [
              "<div>\n",
              "<style scoped>\n",
              "    .dataframe tbody tr th:only-of-type {\n",
              "        vertical-align: middle;\n",
              "    }\n",
              "\n",
              "    .dataframe tbody tr th {\n",
              "        vertical-align: top;\n",
              "    }\n",
              "\n",
              "    .dataframe thead th {\n",
              "        text-align: right;\n",
              "    }\n",
              "</style>\n",
              "<table border=\"1\" class=\"dataframe\">\n",
              "  <thead>\n",
              "    <tr style=\"text-align: right;\">\n",
              "      <th></th>\n",
              "      <th>Age</th>\n",
              "      <th>Height</th>\n",
              "      <th>Weight</th>\n",
              "      <th>Marital Status</th>\n",
              "    </tr>\n",
              "  </thead>\n",
              "  <tbody>\n",
              "    <tr>\n",
              "      <th>ARYAN</th>\n",
              "      <td>10</td>\n",
              "      <td>120</td>\n",
              "      <td>40</td>\n",
              "      <td>Married</td>\n",
              "    </tr>\n",
              "    <tr>\n",
              "      <th>ANURAG</th>\n",
              "      <td>20</td>\n",
              "      <td>130</td>\n",
              "      <td>45</td>\n",
              "      <td>Unmarried</td>\n",
              "    </tr>\n",
              "    <tr>\n",
              "      <th>CHANDAN</th>\n",
              "      <td>30</td>\n",
              "      <td>140</td>\n",
              "      <td>50</td>\n",
              "      <td>Married</td>\n",
              "    </tr>\n",
              "    <tr>\n",
              "      <th>DILIP</th>\n",
              "      <td>40</td>\n",
              "      <td>150</td>\n",
              "      <td>55</td>\n",
              "      <td>Married</td>\n",
              "    </tr>\n",
              "    <tr>\n",
              "      <th>FALAK</th>\n",
              "      <td>50</td>\n",
              "      <td>160</td>\n",
              "      <td>60</td>\n",
              "      <td>Unmarried</td>\n",
              "    </tr>\n",
              "    <tr>\n",
              "      <th>SHUBHAM</th>\n",
              "      <td>60</td>\n",
              "      <td>170</td>\n",
              "      <td>65</td>\n",
              "      <td>Unmarried</td>\n",
              "    </tr>\n",
              "    <tr>\n",
              "      <th>RIYA</th>\n",
              "      <td>70</td>\n",
              "      <td>155</td>\n",
              "      <td>70</td>\n",
              "      <td>Unmarried</td>\n",
              "    </tr>\n",
              "    <tr>\n",
              "      <th>RAKESH</th>\n",
              "      <td>80</td>\n",
              "      <td>175</td>\n",
              "      <td>75</td>\n",
              "      <td>Married</td>\n",
              "    </tr>\n",
              "  </tbody>\n",
              "</table>\n",
              "</div>"
            ],
            "text/plain": [
              "         Age  Height  Weight Marital Status\n",
              "ARYAN     10     120      40        Married\n",
              "ANURAG    20     130      45      Unmarried\n",
              "CHANDAN   30     140      50        Married\n",
              "DILIP     40     150      55        Married\n",
              "FALAK     50     160      60      Unmarried\n",
              "SHUBHAM   60     170      65      Unmarried\n",
              "RIYA      70     155      70      Unmarried\n",
              "RAKESH    80     175      75        Married"
            ]
          },
          "metadata": {},
          "execution_count": 111
        }
      ]
    },
    {
      "cell_type": "code",
      "metadata": {
        "colab": {
          "base_uri": "https://localhost:8080/",
          "height": 295
        },
        "id": "3bQRGazhONw5",
        "outputId": "811a5d8c-1bc6-4fb0-9327-a8e503799bea"
      },
      "source": [
        "df.rename(index=lambda x: x.lower())"
      ],
      "execution_count": 108,
      "outputs": [
        {
          "output_type": "execute_result",
          "data": {
            "text/html": [
              "<div>\n",
              "<style scoped>\n",
              "    .dataframe tbody tr th:only-of-type {\n",
              "        vertical-align: middle;\n",
              "    }\n",
              "\n",
              "    .dataframe tbody tr th {\n",
              "        vertical-align: top;\n",
              "    }\n",
              "\n",
              "    .dataframe thead th {\n",
              "        text-align: right;\n",
              "    }\n",
              "</style>\n",
              "<table border=\"1\" class=\"dataframe\">\n",
              "  <thead>\n",
              "    <tr style=\"text-align: right;\">\n",
              "      <th></th>\n",
              "      <th>Age</th>\n",
              "      <th>Height</th>\n",
              "      <th>Weight</th>\n",
              "      <th>Marital Status</th>\n",
              "    </tr>\n",
              "  </thead>\n",
              "  <tbody>\n",
              "    <tr>\n",
              "      <th>aryan</th>\n",
              "      <td>10</td>\n",
              "      <td>120</td>\n",
              "      <td>40</td>\n",
              "      <td>Married</td>\n",
              "    </tr>\n",
              "    <tr>\n",
              "      <th>anurag</th>\n",
              "      <td>20</td>\n",
              "      <td>130</td>\n",
              "      <td>45</td>\n",
              "      <td>Unmarried</td>\n",
              "    </tr>\n",
              "    <tr>\n",
              "      <th>chandan</th>\n",
              "      <td>30</td>\n",
              "      <td>140</td>\n",
              "      <td>50</td>\n",
              "      <td>Married</td>\n",
              "    </tr>\n",
              "    <tr>\n",
              "      <th>dilip</th>\n",
              "      <td>40</td>\n",
              "      <td>150</td>\n",
              "      <td>55</td>\n",
              "      <td>Married</td>\n",
              "    </tr>\n",
              "    <tr>\n",
              "      <th>falak</th>\n",
              "      <td>50</td>\n",
              "      <td>160</td>\n",
              "      <td>60</td>\n",
              "      <td>Unmarried</td>\n",
              "    </tr>\n",
              "    <tr>\n",
              "      <th>shubham</th>\n",
              "      <td>60</td>\n",
              "      <td>170</td>\n",
              "      <td>65</td>\n",
              "      <td>Unmarried</td>\n",
              "    </tr>\n",
              "    <tr>\n",
              "      <th>riya</th>\n",
              "      <td>70</td>\n",
              "      <td>155</td>\n",
              "      <td>70</td>\n",
              "      <td>Unmarried</td>\n",
              "    </tr>\n",
              "    <tr>\n",
              "      <th>rakesh</th>\n",
              "      <td>80</td>\n",
              "      <td>175</td>\n",
              "      <td>75</td>\n",
              "      <td>Married</td>\n",
              "    </tr>\n",
              "  </tbody>\n",
              "</table>\n",
              "</div>"
            ],
            "text/plain": [
              "         Age  Height  Weight Marital Status\n",
              "aryan     10     120      40        Married\n",
              "anurag    20     130      45      Unmarried\n",
              "chandan   30     140      50        Married\n",
              "dilip     40     150      55        Married\n",
              "falak     50     160      60      Unmarried\n",
              "shubham   60     170      65      Unmarried\n",
              "riya      70     155      70      Unmarried\n",
              "rakesh    80     175      75        Married"
            ]
          },
          "metadata": {},
          "execution_count": 108
        }
      ]
    },
    {
      "cell_type": "code",
      "metadata": {
        "colab": {
          "base_uri": "https://localhost:8080/",
          "height": 295
        },
        "id": "Oyb3FbRvOXYh",
        "outputId": "21b03d9f-0f27-4869-b491-47622c97c79a"
      },
      "source": [
        "df"
      ],
      "execution_count": 109,
      "outputs": [
        {
          "output_type": "execute_result",
          "data": {
            "text/html": [
              "<div>\n",
              "<style scoped>\n",
              "    .dataframe tbody tr th:only-of-type {\n",
              "        vertical-align: middle;\n",
              "    }\n",
              "\n",
              "    .dataframe tbody tr th {\n",
              "        vertical-align: top;\n",
              "    }\n",
              "\n",
              "    .dataframe thead th {\n",
              "        text-align: right;\n",
              "    }\n",
              "</style>\n",
              "<table border=\"1\" class=\"dataframe\">\n",
              "  <thead>\n",
              "    <tr style=\"text-align: right;\">\n",
              "      <th></th>\n",
              "      <th>Age</th>\n",
              "      <th>Height</th>\n",
              "      <th>Weight</th>\n",
              "      <th>Marital Status</th>\n",
              "    </tr>\n",
              "  </thead>\n",
              "  <tbody>\n",
              "    <tr>\n",
              "      <th>Aryan</th>\n",
              "      <td>10</td>\n",
              "      <td>120</td>\n",
              "      <td>40</td>\n",
              "      <td>Married</td>\n",
              "    </tr>\n",
              "    <tr>\n",
              "      <th>Anurag</th>\n",
              "      <td>20</td>\n",
              "      <td>130</td>\n",
              "      <td>45</td>\n",
              "      <td>Unmarried</td>\n",
              "    </tr>\n",
              "    <tr>\n",
              "      <th>Chandan</th>\n",
              "      <td>30</td>\n",
              "      <td>140</td>\n",
              "      <td>50</td>\n",
              "      <td>Married</td>\n",
              "    </tr>\n",
              "    <tr>\n",
              "      <th>Dilip</th>\n",
              "      <td>40</td>\n",
              "      <td>150</td>\n",
              "      <td>55</td>\n",
              "      <td>Married</td>\n",
              "    </tr>\n",
              "    <tr>\n",
              "      <th>Falak</th>\n",
              "      <td>50</td>\n",
              "      <td>160</td>\n",
              "      <td>60</td>\n",
              "      <td>Unmarried</td>\n",
              "    </tr>\n",
              "    <tr>\n",
              "      <th>Shubham</th>\n",
              "      <td>60</td>\n",
              "      <td>170</td>\n",
              "      <td>65</td>\n",
              "      <td>Unmarried</td>\n",
              "    </tr>\n",
              "    <tr>\n",
              "      <th>Riya</th>\n",
              "      <td>70</td>\n",
              "      <td>155</td>\n",
              "      <td>70</td>\n",
              "      <td>Unmarried</td>\n",
              "    </tr>\n",
              "    <tr>\n",
              "      <th>Rakesh</th>\n",
              "      <td>80</td>\n",
              "      <td>175</td>\n",
              "      <td>75</td>\n",
              "      <td>Married</td>\n",
              "    </tr>\n",
              "  </tbody>\n",
              "</table>\n",
              "</div>"
            ],
            "text/plain": [
              "         Age  Height  Weight Marital Status\n",
              "Aryan     10     120      40        Married\n",
              "Anurag    20     130      45      Unmarried\n",
              "Chandan   30     140      50        Married\n",
              "Dilip     40     150      55        Married\n",
              "Falak     50     160      60      Unmarried\n",
              "Shubham   60     170      65      Unmarried\n",
              "Riya      70     155      70      Unmarried\n",
              "Rakesh    80     175      75        Married"
            ]
          },
          "metadata": {},
          "execution_count": 109
        }
      ]
    },
    {
      "cell_type": "code",
      "metadata": {
        "colab": {
          "base_uri": "https://localhost:8080/",
          "height": 357
        },
        "id": "reZzhnsiP7Uq",
        "outputId": "592d9c12-975e-4b30-80e6-b208c0b64f66"
      },
      "source": [
        "df.append(pd.Series({'Age':56,'Weight':67},name='Vishal'))"
      ],
      "execution_count": 117,
      "outputs": [
        {
          "output_type": "execute_result",
          "data": {
            "text/html": [
              "<div>\n",
              "<style scoped>\n",
              "    .dataframe tbody tr th:only-of-type {\n",
              "        vertical-align: middle;\n",
              "    }\n",
              "\n",
              "    .dataframe tbody tr th {\n",
              "        vertical-align: top;\n",
              "    }\n",
              "\n",
              "    .dataframe thead th {\n",
              "        text-align: right;\n",
              "    }\n",
              "</style>\n",
              "<table border=\"1\" class=\"dataframe\">\n",
              "  <thead>\n",
              "    <tr style=\"text-align: right;\">\n",
              "      <th></th>\n",
              "      <th>Age</th>\n",
              "      <th>Height</th>\n",
              "      <th>Weight</th>\n",
              "      <th>Marital Status</th>\n",
              "    </tr>\n",
              "  </thead>\n",
              "  <tbody>\n",
              "    <tr>\n",
              "      <th>Aryan</th>\n",
              "      <td>10.0</td>\n",
              "      <td>120.0</td>\n",
              "      <td>40.0</td>\n",
              "      <td>Married</td>\n",
              "    </tr>\n",
              "    <tr>\n",
              "      <th>Anurag</th>\n",
              "      <td>20.0</td>\n",
              "      <td>130.0</td>\n",
              "      <td>45.0</td>\n",
              "      <td>Unmarried</td>\n",
              "    </tr>\n",
              "    <tr>\n",
              "      <th>Chandan</th>\n",
              "      <td>30.0</td>\n",
              "      <td>140.0</td>\n",
              "      <td>50.0</td>\n",
              "      <td>Married</td>\n",
              "    </tr>\n",
              "    <tr>\n",
              "      <th>Dilip</th>\n",
              "      <td>40.0</td>\n",
              "      <td>150.0</td>\n",
              "      <td>55.0</td>\n",
              "      <td>Married</td>\n",
              "    </tr>\n",
              "    <tr>\n",
              "      <th>Falak</th>\n",
              "      <td>50.0</td>\n",
              "      <td>160.0</td>\n",
              "      <td>60.0</td>\n",
              "      <td>Unmarried</td>\n",
              "    </tr>\n",
              "    <tr>\n",
              "      <th>Shubham</th>\n",
              "      <td>60.0</td>\n",
              "      <td>170.0</td>\n",
              "      <td>65.0</td>\n",
              "      <td>Unmarried</td>\n",
              "    </tr>\n",
              "    <tr>\n",
              "      <th>Riya</th>\n",
              "      <td>70.0</td>\n",
              "      <td>155.0</td>\n",
              "      <td>70.0</td>\n",
              "      <td>Unmarried</td>\n",
              "    </tr>\n",
              "    <tr>\n",
              "      <th>Rakesh</th>\n",
              "      <td>80.0</td>\n",
              "      <td>175.0</td>\n",
              "      <td>75.0</td>\n",
              "      <td>Married</td>\n",
              "    </tr>\n",
              "    <tr>\n",
              "      <th>Vishal</th>\n",
              "      <td>NaN</td>\n",
              "      <td>160.0</td>\n",
              "      <td>NaN</td>\n",
              "      <td>Married</td>\n",
              "    </tr>\n",
              "    <tr>\n",
              "      <th>Vishal</th>\n",
              "      <td>56.0</td>\n",
              "      <td>NaN</td>\n",
              "      <td>67.0</td>\n",
              "      <td>NaN</td>\n",
              "    </tr>\n",
              "  </tbody>\n",
              "</table>\n",
              "</div>"
            ],
            "text/plain": [
              "          Age  Height  Weight Marital Status\n",
              "Aryan    10.0   120.0    40.0        Married\n",
              "Anurag   20.0   130.0    45.0      Unmarried\n",
              "Chandan  30.0   140.0    50.0        Married\n",
              "Dilip    40.0   150.0    55.0        Married\n",
              "Falak    50.0   160.0    60.0      Unmarried\n",
              "Shubham  60.0   170.0    65.0      Unmarried\n",
              "Riya     70.0   155.0    70.0      Unmarried\n",
              "Rakesh   80.0   175.0    75.0        Married\n",
              "Vishal    NaN   160.0     NaN        Married\n",
              "Vishal   56.0     NaN    67.0            NaN"
            ]
          },
          "metadata": {},
          "execution_count": 117
        }
      ]
    },
    {
      "cell_type": "code",
      "metadata": {
        "colab": {
          "base_uri": "https://localhost:8080/",
          "height": 326
        },
        "id": "MwI6_ck-SQF_",
        "outputId": "e80fc669-8d90-4fae-fe7f-3ca9e38c9514"
      },
      "source": [
        "df"
      ],
      "execution_count": 118,
      "outputs": [
        {
          "output_type": "execute_result",
          "data": {
            "text/html": [
              "<div>\n",
              "<style scoped>\n",
              "    .dataframe tbody tr th:only-of-type {\n",
              "        vertical-align: middle;\n",
              "    }\n",
              "\n",
              "    .dataframe tbody tr th {\n",
              "        vertical-align: top;\n",
              "    }\n",
              "\n",
              "    .dataframe thead th {\n",
              "        text-align: right;\n",
              "    }\n",
              "</style>\n",
              "<table border=\"1\" class=\"dataframe\">\n",
              "  <thead>\n",
              "    <tr style=\"text-align: right;\">\n",
              "      <th></th>\n",
              "      <th>Age</th>\n",
              "      <th>Height</th>\n",
              "      <th>Weight</th>\n",
              "      <th>Marital Status</th>\n",
              "    </tr>\n",
              "  </thead>\n",
              "  <tbody>\n",
              "    <tr>\n",
              "      <th>Aryan</th>\n",
              "      <td>10.0</td>\n",
              "      <td>120</td>\n",
              "      <td>40.0</td>\n",
              "      <td>Married</td>\n",
              "    </tr>\n",
              "    <tr>\n",
              "      <th>Anurag</th>\n",
              "      <td>20.0</td>\n",
              "      <td>130</td>\n",
              "      <td>45.0</td>\n",
              "      <td>Unmarried</td>\n",
              "    </tr>\n",
              "    <tr>\n",
              "      <th>Chandan</th>\n",
              "      <td>30.0</td>\n",
              "      <td>140</td>\n",
              "      <td>50.0</td>\n",
              "      <td>Married</td>\n",
              "    </tr>\n",
              "    <tr>\n",
              "      <th>Dilip</th>\n",
              "      <td>40.0</td>\n",
              "      <td>150</td>\n",
              "      <td>55.0</td>\n",
              "      <td>Married</td>\n",
              "    </tr>\n",
              "    <tr>\n",
              "      <th>Falak</th>\n",
              "      <td>50.0</td>\n",
              "      <td>160</td>\n",
              "      <td>60.0</td>\n",
              "      <td>Unmarried</td>\n",
              "    </tr>\n",
              "    <tr>\n",
              "      <th>Shubham</th>\n",
              "      <td>60.0</td>\n",
              "      <td>170</td>\n",
              "      <td>65.0</td>\n",
              "      <td>Unmarried</td>\n",
              "    </tr>\n",
              "    <tr>\n",
              "      <th>Riya</th>\n",
              "      <td>70.0</td>\n",
              "      <td>155</td>\n",
              "      <td>70.0</td>\n",
              "      <td>Unmarried</td>\n",
              "    </tr>\n",
              "    <tr>\n",
              "      <th>Rakesh</th>\n",
              "      <td>80.0</td>\n",
              "      <td>175</td>\n",
              "      <td>75.0</td>\n",
              "      <td>Married</td>\n",
              "    </tr>\n",
              "    <tr>\n",
              "      <th>Vishal</th>\n",
              "      <td>NaN</td>\n",
              "      <td>160</td>\n",
              "      <td>NaN</td>\n",
              "      <td>Married</td>\n",
              "    </tr>\n",
              "  </tbody>\n",
              "</table>\n",
              "</div>"
            ],
            "text/plain": [
              "          Age  Height  Weight Marital Status\n",
              "Aryan    10.0     120    40.0        Married\n",
              "Anurag   20.0     130    45.0      Unmarried\n",
              "Chandan  30.0     140    50.0        Married\n",
              "Dilip    40.0     150    55.0        Married\n",
              "Falak    50.0     160    60.0      Unmarried\n",
              "Shubham  60.0     170    65.0      Unmarried\n",
              "Riya     70.0     155    70.0      Unmarried\n",
              "Rakesh   80.0     175    75.0        Married\n",
              "Vishal    NaN     160     NaN        Married"
            ]
          },
          "metadata": {},
          "execution_count": 118
        }
      ]
    },
    {
      "cell_type": "code",
      "metadata": {
        "id": "c64dgG93RVhk"
      },
      "source": [
        "df.loc['Vishal']=pd.Series({'Height':160,'Marital Status':'Married'})"
      ],
      "execution_count": 115,
      "outputs": []
    },
    {
      "cell_type": "code",
      "metadata": {
        "colab": {
          "base_uri": "https://localhost:8080/",
          "height": 326
        },
        "id": "Txbr0GerR-Jf",
        "outputId": "ba2762a6-11e5-4881-bd46-552816e06d0f"
      },
      "source": [
        "df"
      ],
      "execution_count": 116,
      "outputs": [
        {
          "output_type": "execute_result",
          "data": {
            "text/html": [
              "<div>\n",
              "<style scoped>\n",
              "    .dataframe tbody tr th:only-of-type {\n",
              "        vertical-align: middle;\n",
              "    }\n",
              "\n",
              "    .dataframe tbody tr th {\n",
              "        vertical-align: top;\n",
              "    }\n",
              "\n",
              "    .dataframe thead th {\n",
              "        text-align: right;\n",
              "    }\n",
              "</style>\n",
              "<table border=\"1\" class=\"dataframe\">\n",
              "  <thead>\n",
              "    <tr style=\"text-align: right;\">\n",
              "      <th></th>\n",
              "      <th>Age</th>\n",
              "      <th>Height</th>\n",
              "      <th>Weight</th>\n",
              "      <th>Marital Status</th>\n",
              "    </tr>\n",
              "  </thead>\n",
              "  <tbody>\n",
              "    <tr>\n",
              "      <th>Aryan</th>\n",
              "      <td>10.0</td>\n",
              "      <td>120</td>\n",
              "      <td>40.0</td>\n",
              "      <td>Married</td>\n",
              "    </tr>\n",
              "    <tr>\n",
              "      <th>Anurag</th>\n",
              "      <td>20.0</td>\n",
              "      <td>130</td>\n",
              "      <td>45.0</td>\n",
              "      <td>Unmarried</td>\n",
              "    </tr>\n",
              "    <tr>\n",
              "      <th>Chandan</th>\n",
              "      <td>30.0</td>\n",
              "      <td>140</td>\n",
              "      <td>50.0</td>\n",
              "      <td>Married</td>\n",
              "    </tr>\n",
              "    <tr>\n",
              "      <th>Dilip</th>\n",
              "      <td>40.0</td>\n",
              "      <td>150</td>\n",
              "      <td>55.0</td>\n",
              "      <td>Married</td>\n",
              "    </tr>\n",
              "    <tr>\n",
              "      <th>Falak</th>\n",
              "      <td>50.0</td>\n",
              "      <td>160</td>\n",
              "      <td>60.0</td>\n",
              "      <td>Unmarried</td>\n",
              "    </tr>\n",
              "    <tr>\n",
              "      <th>Shubham</th>\n",
              "      <td>60.0</td>\n",
              "      <td>170</td>\n",
              "      <td>65.0</td>\n",
              "      <td>Unmarried</td>\n",
              "    </tr>\n",
              "    <tr>\n",
              "      <th>Riya</th>\n",
              "      <td>70.0</td>\n",
              "      <td>155</td>\n",
              "      <td>70.0</td>\n",
              "      <td>Unmarried</td>\n",
              "    </tr>\n",
              "    <tr>\n",
              "      <th>Rakesh</th>\n",
              "      <td>80.0</td>\n",
              "      <td>175</td>\n",
              "      <td>75.0</td>\n",
              "      <td>Married</td>\n",
              "    </tr>\n",
              "    <tr>\n",
              "      <th>Vishal</th>\n",
              "      <td>NaN</td>\n",
              "      <td>160</td>\n",
              "      <td>NaN</td>\n",
              "      <td>Married</td>\n",
              "    </tr>\n",
              "  </tbody>\n",
              "</table>\n",
              "</div>"
            ],
            "text/plain": [
              "          Age  Height  Weight Marital Status\n",
              "Aryan    10.0     120    40.0        Married\n",
              "Anurag   20.0     130    45.0      Unmarried\n",
              "Chandan  30.0     140    50.0        Married\n",
              "Dilip    40.0     150    55.0        Married\n",
              "Falak    50.0     160    60.0      Unmarried\n",
              "Shubham  60.0     170    65.0      Unmarried\n",
              "Riya     70.0     155    70.0      Unmarried\n",
              "Rakesh   80.0     175    75.0        Married\n",
              "Vishal    NaN     160     NaN        Married"
            ]
          },
          "metadata": {},
          "execution_count": 116
        }
      ]
    },
    {
      "cell_type": "code",
      "metadata": {
        "colab": {
          "base_uri": "https://localhost:8080/",
          "height": 326
        },
        "id": "e9FbzgIbUehk",
        "outputId": "d6f09d00-1821-4eaf-e032-423e775f5daf"
      },
      "source": [
        "df[['Weight','Height']]"
      ],
      "execution_count": 120,
      "outputs": [
        {
          "output_type": "execute_result",
          "data": {
            "text/html": [
              "<div>\n",
              "<style scoped>\n",
              "    .dataframe tbody tr th:only-of-type {\n",
              "        vertical-align: middle;\n",
              "    }\n",
              "\n",
              "    .dataframe tbody tr th {\n",
              "        vertical-align: top;\n",
              "    }\n",
              "\n",
              "    .dataframe thead th {\n",
              "        text-align: right;\n",
              "    }\n",
              "</style>\n",
              "<table border=\"1\" class=\"dataframe\">\n",
              "  <thead>\n",
              "    <tr style=\"text-align: right;\">\n",
              "      <th></th>\n",
              "      <th>Weight</th>\n",
              "      <th>Height</th>\n",
              "    </tr>\n",
              "  </thead>\n",
              "  <tbody>\n",
              "    <tr>\n",
              "      <th>Aryan</th>\n",
              "      <td>40.0</td>\n",
              "      <td>120</td>\n",
              "    </tr>\n",
              "    <tr>\n",
              "      <th>Anurag</th>\n",
              "      <td>45.0</td>\n",
              "      <td>130</td>\n",
              "    </tr>\n",
              "    <tr>\n",
              "      <th>Chandan</th>\n",
              "      <td>50.0</td>\n",
              "      <td>140</td>\n",
              "    </tr>\n",
              "    <tr>\n",
              "      <th>Dilip</th>\n",
              "      <td>55.0</td>\n",
              "      <td>150</td>\n",
              "    </tr>\n",
              "    <tr>\n",
              "      <th>Falak</th>\n",
              "      <td>60.0</td>\n",
              "      <td>160</td>\n",
              "    </tr>\n",
              "    <tr>\n",
              "      <th>Shubham</th>\n",
              "      <td>65.0</td>\n",
              "      <td>170</td>\n",
              "    </tr>\n",
              "    <tr>\n",
              "      <th>Riya</th>\n",
              "      <td>70.0</td>\n",
              "      <td>155</td>\n",
              "    </tr>\n",
              "    <tr>\n",
              "      <th>Rakesh</th>\n",
              "      <td>75.0</td>\n",
              "      <td>175</td>\n",
              "    </tr>\n",
              "    <tr>\n",
              "      <th>Vishal</th>\n",
              "      <td>NaN</td>\n",
              "      <td>160</td>\n",
              "    </tr>\n",
              "  </tbody>\n",
              "</table>\n",
              "</div>"
            ],
            "text/plain": [
              "         Weight  Height\n",
              "Aryan      40.0     120\n",
              "Anurag     45.0     130\n",
              "Chandan    50.0     140\n",
              "Dilip      55.0     150\n",
              "Falak      60.0     160\n",
              "Shubham    65.0     170\n",
              "Riya       70.0     155\n",
              "Rakesh     75.0     175\n",
              "Vishal      NaN     160"
            ]
          },
          "metadata": {},
          "execution_count": 120
        }
      ]
    },
    {
      "cell_type": "code",
      "metadata": {
        "colab": {
          "base_uri": "https://localhost:8080/"
        },
        "id": "rp4rKZORSXdK",
        "outputId": "c8865e9a-8f1a-42c1-bd4d-ca759d228ca5"
      },
      "source": [
        "df['Weight']/df['Height']/df['Height']/10000"
      ],
      "execution_count": 124,
      "outputs": [
        {
          "output_type": "execute_result",
          "data": {
            "text/plain": [
              "Aryan      2.777778e-07\n",
              "Anurag     2.662722e-07\n",
              "Chandan    2.551020e-07\n",
              "Dilip      2.444444e-07\n",
              "Falak      2.343750e-07\n",
              "Shubham    2.249135e-07\n",
              "Riya       2.913632e-07\n",
              "Rakesh     2.448980e-07\n",
              "Vishal              NaN\n",
              "dtype: float64"
            ]
          },
          "metadata": {},
          "execution_count": 124
        }
      ]
    },
    {
      "cell_type": "code",
      "metadata": {
        "id": "T6_ZJ7QMVJ9w"
      },
      "source": [
        "df['BMI']=df['Weight']/df['Height']/df['Height']/10000"
      ],
      "execution_count": 125,
      "outputs": []
    },
    {
      "cell_type": "code",
      "metadata": {
        "colab": {
          "base_uri": "https://localhost:8080/",
          "height": 326
        },
        "id": "kZguUHbdVSje",
        "outputId": "c638e626-7f49-4d81-bd82-6a604a9d4de4"
      },
      "source": [
        "df"
      ],
      "execution_count": 126,
      "outputs": [
        {
          "output_type": "execute_result",
          "data": {
            "text/html": [
              "<div>\n",
              "<style scoped>\n",
              "    .dataframe tbody tr th:only-of-type {\n",
              "        vertical-align: middle;\n",
              "    }\n",
              "\n",
              "    .dataframe tbody tr th {\n",
              "        vertical-align: top;\n",
              "    }\n",
              "\n",
              "    .dataframe thead th {\n",
              "        text-align: right;\n",
              "    }\n",
              "</style>\n",
              "<table border=\"1\" class=\"dataframe\">\n",
              "  <thead>\n",
              "    <tr style=\"text-align: right;\">\n",
              "      <th></th>\n",
              "      <th>Age</th>\n",
              "      <th>Height</th>\n",
              "      <th>Weight</th>\n",
              "      <th>Marital Status</th>\n",
              "      <th>BMI</th>\n",
              "    </tr>\n",
              "  </thead>\n",
              "  <tbody>\n",
              "    <tr>\n",
              "      <th>Aryan</th>\n",
              "      <td>10.0</td>\n",
              "      <td>120</td>\n",
              "      <td>40.0</td>\n",
              "      <td>Married</td>\n",
              "      <td>2.777778e-07</td>\n",
              "    </tr>\n",
              "    <tr>\n",
              "      <th>Anurag</th>\n",
              "      <td>20.0</td>\n",
              "      <td>130</td>\n",
              "      <td>45.0</td>\n",
              "      <td>Unmarried</td>\n",
              "      <td>2.662722e-07</td>\n",
              "    </tr>\n",
              "    <tr>\n",
              "      <th>Chandan</th>\n",
              "      <td>30.0</td>\n",
              "      <td>140</td>\n",
              "      <td>50.0</td>\n",
              "      <td>Married</td>\n",
              "      <td>2.551020e-07</td>\n",
              "    </tr>\n",
              "    <tr>\n",
              "      <th>Dilip</th>\n",
              "      <td>40.0</td>\n",
              "      <td>150</td>\n",
              "      <td>55.0</td>\n",
              "      <td>Married</td>\n",
              "      <td>2.444444e-07</td>\n",
              "    </tr>\n",
              "    <tr>\n",
              "      <th>Falak</th>\n",
              "      <td>50.0</td>\n",
              "      <td>160</td>\n",
              "      <td>60.0</td>\n",
              "      <td>Unmarried</td>\n",
              "      <td>2.343750e-07</td>\n",
              "    </tr>\n",
              "    <tr>\n",
              "      <th>Shubham</th>\n",
              "      <td>60.0</td>\n",
              "      <td>170</td>\n",
              "      <td>65.0</td>\n",
              "      <td>Unmarried</td>\n",
              "      <td>2.249135e-07</td>\n",
              "    </tr>\n",
              "    <tr>\n",
              "      <th>Riya</th>\n",
              "      <td>70.0</td>\n",
              "      <td>155</td>\n",
              "      <td>70.0</td>\n",
              "      <td>Unmarried</td>\n",
              "      <td>2.913632e-07</td>\n",
              "    </tr>\n",
              "    <tr>\n",
              "      <th>Rakesh</th>\n",
              "      <td>80.0</td>\n",
              "      <td>175</td>\n",
              "      <td>75.0</td>\n",
              "      <td>Married</td>\n",
              "      <td>2.448980e-07</td>\n",
              "    </tr>\n",
              "    <tr>\n",
              "      <th>Vishal</th>\n",
              "      <td>NaN</td>\n",
              "      <td>160</td>\n",
              "      <td>NaN</td>\n",
              "      <td>Married</td>\n",
              "      <td>NaN</td>\n",
              "    </tr>\n",
              "  </tbody>\n",
              "</table>\n",
              "</div>"
            ],
            "text/plain": [
              "          Age  Height  Weight Marital Status           BMI\n",
              "Aryan    10.0     120    40.0        Married  2.777778e-07\n",
              "Anurag   20.0     130    45.0      Unmarried  2.662722e-07\n",
              "Chandan  30.0     140    50.0        Married  2.551020e-07\n",
              "Dilip    40.0     150    55.0        Married  2.444444e-07\n",
              "Falak    50.0     160    60.0      Unmarried  2.343750e-07\n",
              "Shubham  60.0     170    65.0      Unmarried  2.249135e-07\n",
              "Riya     70.0     155    70.0      Unmarried  2.913632e-07\n",
              "Rakesh   80.0     175    75.0        Married  2.448980e-07\n",
              "Vishal    NaN     160     NaN        Married           NaN"
            ]
          },
          "metadata": {},
          "execution_count": 126
        }
      ]
    },
    {
      "cell_type": "code",
      "metadata": {
        "colab": {
          "base_uri": "https://localhost:8080/",
          "height": 203
        },
        "id": "aNwh3vnoVmMa",
        "outputId": "09c37e87-3559-438f-99f9-7ab9cabc5fb5"
      },
      "source": [
        "df.head()"
      ],
      "execution_count": 127,
      "outputs": [
        {
          "output_type": "execute_result",
          "data": {
            "text/html": [
              "<div>\n",
              "<style scoped>\n",
              "    .dataframe tbody tr th:only-of-type {\n",
              "        vertical-align: middle;\n",
              "    }\n",
              "\n",
              "    .dataframe tbody tr th {\n",
              "        vertical-align: top;\n",
              "    }\n",
              "\n",
              "    .dataframe thead th {\n",
              "        text-align: right;\n",
              "    }\n",
              "</style>\n",
              "<table border=\"1\" class=\"dataframe\">\n",
              "  <thead>\n",
              "    <tr style=\"text-align: right;\">\n",
              "      <th></th>\n",
              "      <th>Age</th>\n",
              "      <th>Height</th>\n",
              "      <th>Weight</th>\n",
              "      <th>Marital Status</th>\n",
              "      <th>BMI</th>\n",
              "    </tr>\n",
              "  </thead>\n",
              "  <tbody>\n",
              "    <tr>\n",
              "      <th>Aryan</th>\n",
              "      <td>10.0</td>\n",
              "      <td>120</td>\n",
              "      <td>40.0</td>\n",
              "      <td>Married</td>\n",
              "      <td>2.777778e-07</td>\n",
              "    </tr>\n",
              "    <tr>\n",
              "      <th>Anurag</th>\n",
              "      <td>20.0</td>\n",
              "      <td>130</td>\n",
              "      <td>45.0</td>\n",
              "      <td>Unmarried</td>\n",
              "      <td>2.662722e-07</td>\n",
              "    </tr>\n",
              "    <tr>\n",
              "      <th>Chandan</th>\n",
              "      <td>30.0</td>\n",
              "      <td>140</td>\n",
              "      <td>50.0</td>\n",
              "      <td>Married</td>\n",
              "      <td>2.551020e-07</td>\n",
              "    </tr>\n",
              "    <tr>\n",
              "      <th>Dilip</th>\n",
              "      <td>40.0</td>\n",
              "      <td>150</td>\n",
              "      <td>55.0</td>\n",
              "      <td>Married</td>\n",
              "      <td>2.444444e-07</td>\n",
              "    </tr>\n",
              "    <tr>\n",
              "      <th>Falak</th>\n",
              "      <td>50.0</td>\n",
              "      <td>160</td>\n",
              "      <td>60.0</td>\n",
              "      <td>Unmarried</td>\n",
              "      <td>2.343750e-07</td>\n",
              "    </tr>\n",
              "  </tbody>\n",
              "</table>\n",
              "</div>"
            ],
            "text/plain": [
              "          Age  Height  Weight Marital Status           BMI\n",
              "Aryan    10.0     120    40.0        Married  2.777778e-07\n",
              "Anurag   20.0     130    45.0      Unmarried  2.662722e-07\n",
              "Chandan  30.0     140    50.0        Married  2.551020e-07\n",
              "Dilip    40.0     150    55.0        Married  2.444444e-07\n",
              "Falak    50.0     160    60.0      Unmarried  2.343750e-07"
            ]
          },
          "metadata": {},
          "execution_count": 127
        }
      ]
    },
    {
      "cell_type": "code",
      "metadata": {
        "colab": {
          "base_uri": "https://localhost:8080/",
          "height": 295
        },
        "id": "mW2IfPYxVpEQ",
        "outputId": "1eb3f7ce-2ccb-4b46-f8c6-23d40ed24a1a"
      },
      "source": [
        "df.describe()"
      ],
      "execution_count": 128,
      "outputs": [
        {
          "output_type": "execute_result",
          "data": {
            "text/html": [
              "<div>\n",
              "<style scoped>\n",
              "    .dataframe tbody tr th:only-of-type {\n",
              "        vertical-align: middle;\n",
              "    }\n",
              "\n",
              "    .dataframe tbody tr th {\n",
              "        vertical-align: top;\n",
              "    }\n",
              "\n",
              "    .dataframe thead th {\n",
              "        text-align: right;\n",
              "    }\n",
              "</style>\n",
              "<table border=\"1\" class=\"dataframe\">\n",
              "  <thead>\n",
              "    <tr style=\"text-align: right;\">\n",
              "      <th></th>\n",
              "      <th>Age</th>\n",
              "      <th>Height</th>\n",
              "      <th>Weight</th>\n",
              "      <th>BMI</th>\n",
              "    </tr>\n",
              "  </thead>\n",
              "  <tbody>\n",
              "    <tr>\n",
              "      <th>count</th>\n",
              "      <td>8.000000</td>\n",
              "      <td>9.000000</td>\n",
              "      <td>8.000000</td>\n",
              "      <td>8.000000e+00</td>\n",
              "    </tr>\n",
              "    <tr>\n",
              "      <th>mean</th>\n",
              "      <td>45.000000</td>\n",
              "      <td>151.111111</td>\n",
              "      <td>57.500000</td>\n",
              "      <td>2.548933e-07</td>\n",
              "    </tr>\n",
              "    <tr>\n",
              "      <th>std</th>\n",
              "      <td>24.494897</td>\n",
              "      <td>18.162079</td>\n",
              "      <td>12.247449</td>\n",
              "      <td>2.239945e-08</td>\n",
              "    </tr>\n",
              "    <tr>\n",
              "      <th>min</th>\n",
              "      <td>10.000000</td>\n",
              "      <td>120.000000</td>\n",
              "      <td>40.000000</td>\n",
              "      <td>2.249135e-07</td>\n",
              "    </tr>\n",
              "    <tr>\n",
              "      <th>25%</th>\n",
              "      <td>27.500000</td>\n",
              "      <td>140.000000</td>\n",
              "      <td>48.750000</td>\n",
              "      <td>2.419271e-07</td>\n",
              "    </tr>\n",
              "    <tr>\n",
              "      <th>50%</th>\n",
              "      <td>45.000000</td>\n",
              "      <td>155.000000</td>\n",
              "      <td>57.500000</td>\n",
              "      <td>2.500000e-07</td>\n",
              "    </tr>\n",
              "    <tr>\n",
              "      <th>75%</th>\n",
              "      <td>62.500000</td>\n",
              "      <td>160.000000</td>\n",
              "      <td>66.250000</td>\n",
              "      <td>2.691486e-07</td>\n",
              "    </tr>\n",
              "    <tr>\n",
              "      <th>max</th>\n",
              "      <td>80.000000</td>\n",
              "      <td>175.000000</td>\n",
              "      <td>75.000000</td>\n",
              "      <td>2.913632e-07</td>\n",
              "    </tr>\n",
              "  </tbody>\n",
              "</table>\n",
              "</div>"
            ],
            "text/plain": [
              "             Age      Height     Weight           BMI\n",
              "count   8.000000    9.000000   8.000000  8.000000e+00\n",
              "mean   45.000000  151.111111  57.500000  2.548933e-07\n",
              "std    24.494897   18.162079  12.247449  2.239945e-08\n",
              "min    10.000000  120.000000  40.000000  2.249135e-07\n",
              "25%    27.500000  140.000000  48.750000  2.419271e-07\n",
              "50%    45.000000  155.000000  57.500000  2.500000e-07\n",
              "75%    62.500000  160.000000  66.250000  2.691486e-07\n",
              "max    80.000000  175.000000  75.000000  2.913632e-07"
            ]
          },
          "metadata": {},
          "execution_count": 128
        }
      ]
    },
    {
      "cell_type": "code",
      "metadata": {
        "id": "LSkDFpRcVum0"
      },
      "source": [
        "Age=df['Age']"
      ],
      "execution_count": 129,
      "outputs": []
    },
    {
      "cell_type": "code",
      "metadata": {
        "colab": {
          "base_uri": "https://localhost:8080/"
        },
        "id": "R4LKlyTjV-xQ",
        "outputId": "62dae2b1-56ec-4a4d-faa6-857ead3b1edc"
      },
      "source": [
        "Age.min()"
      ],
      "execution_count": 130,
      "outputs": [
        {
          "output_type": "execute_result",
          "data": {
            "text/plain": [
              "10.0"
            ]
          },
          "metadata": {},
          "execution_count": 130
        }
      ]
    },
    {
      "cell_type": "code",
      "metadata": {
        "colab": {
          "base_uri": "https://localhost:8080/"
        },
        "id": "b_rUkiyTWBe2",
        "outputId": "4a3301ca-face-46d2-d45d-1ae969510769"
      },
      "source": [
        "Age.max()"
      ],
      "execution_count": 131,
      "outputs": [
        {
          "output_type": "execute_result",
          "data": {
            "text/plain": [
              "80.0"
            ]
          },
          "metadata": {},
          "execution_count": 131
        }
      ]
    },
    {
      "cell_type": "code",
      "metadata": {
        "colab": {
          "base_uri": "https://localhost:8080/"
        },
        "id": "XrQAlASVWE2t",
        "outputId": "e554eff8-e808-4632-8bd1-7b1364cb2b2a"
      },
      "source": [
        "Age.sum()"
      ],
      "execution_count": 132,
      "outputs": [
        {
          "output_type": "execute_result",
          "data": {
            "text/plain": [
              "360.0"
            ]
          },
          "metadata": {},
          "execution_count": 132
        }
      ]
    },
    {
      "cell_type": "code",
      "metadata": {
        "colab": {
          "base_uri": "https://localhost:8080/"
        },
        "id": "qsXFPSOqWOhi",
        "outputId": "3db5269b-a8e5-442b-85f5-774333a18399"
      },
      "source": [
        "Age.sum()/len(Age)"
      ],
      "execution_count": 134,
      "outputs": [
        {
          "output_type": "execute_result",
          "data": {
            "text/plain": [
              "40.0"
            ]
          },
          "metadata": {},
          "execution_count": 134
        }
      ]
    },
    {
      "cell_type": "code",
      "metadata": {
        "colab": {
          "base_uri": "https://localhost:8080/"
        },
        "id": "gRq0Qxr1WYeA",
        "outputId": "b815e974-2277-4a31-d0f0-a1c81651d54e"
      },
      "source": [
        "Age.mean()"
      ],
      "execution_count": 135,
      "outputs": [
        {
          "output_type": "execute_result",
          "data": {
            "text/plain": [
              "45.0"
            ]
          },
          "metadata": {},
          "execution_count": 135
        }
      ]
    },
    {
      "cell_type": "code",
      "metadata": {
        "colab": {
          "base_uri": "https://localhost:8080/"
        },
        "id": "YDO2s6pvWo9_",
        "outputId": "e0dd386a-d458-4300-d992-77308759aef5"
      },
      "source": [
        "Age.std()"
      ],
      "execution_count": 137,
      "outputs": [
        {
          "output_type": "execute_result",
          "data": {
            "text/plain": [
              "24.49489742783178"
            ]
          },
          "metadata": {},
          "execution_count": 137
        }
      ]
    },
    {
      "cell_type": "code",
      "metadata": {
        "colab": {
          "base_uri": "https://localhost:8080/"
        },
        "id": "6J8ZZzAfWwr4",
        "outputId": "56948327-a003-49cb-ae4b-22afb2de432b"
      },
      "source": [
        "Age.median()"
      ],
      "execution_count": 138,
      "outputs": [
        {
          "output_type": "execute_result",
          "data": {
            "text/plain": [
              "45.0"
            ]
          },
          "metadata": {},
          "execution_count": 138
        }
      ]
    },
    {
      "cell_type": "code",
      "metadata": {
        "colab": {
          "base_uri": "https://localhost:8080/"
        },
        "id": "QqahLiUZWzIF",
        "outputId": "f907b420-21cb-45c7-d567-e4ce8eccb9c7"
      },
      "source": [
        "Age.describe()"
      ],
      "execution_count": 139,
      "outputs": [
        {
          "output_type": "execute_result",
          "data": {
            "text/plain": [
              "count     8.000000\n",
              "mean     45.000000\n",
              "std      24.494897\n",
              "min      10.000000\n",
              "25%      27.500000\n",
              "50%      45.000000\n",
              "75%      62.500000\n",
              "max      80.000000\n",
              "Name: Age, dtype: float64"
            ]
          },
          "metadata": {},
          "execution_count": 139
        }
      ]
    },
    {
      "cell_type": "code",
      "metadata": {
        "colab": {
          "base_uri": "https://localhost:8080/"
        },
        "id": "gzhub2H_W2Ra",
        "outputId": "f7b09577-de35-4777-cb65-360fd085fdf3"
      },
      "source": [
        "Age.quantile([.30,.50,.80,1.0])"
      ],
      "execution_count": 143,
      "outputs": [
        {
          "output_type": "execute_result",
          "data": {
            "text/plain": [
              "0.3    31.0\n",
              "0.5    45.0\n",
              "0.8    66.0\n",
              "1.0    80.0\n",
              "Name: Age, dtype: float64"
            ]
          },
          "metadata": {},
          "execution_count": 143
        }
      ]
    }
  ]
}