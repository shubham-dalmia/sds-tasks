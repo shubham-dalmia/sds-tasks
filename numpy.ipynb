{
  "nbformat": 4,
  "nbformat_minor": 0,
  "metadata": {
    "colab": {
      "name": "numpy.ipynb",
      "provenance": [],
      "authorship_tag": "ABX9TyMpobyUMObi1tVNCQsccksg",
      "include_colab_link": true
    },
    "kernelspec": {
      "name": "python3",
      "display_name": "Python 3"
    },
    "language_info": {
      "name": "python"
    }
  },
  "cells": [
    {
      "cell_type": "markdown",
      "metadata": {
        "id": "view-in-github",
        "colab_type": "text"
      },
      "source": [
        "<a href=\"https://colab.research.google.com/github/shubham-dalmia/sds-tasks/blob/main/numpy.ipynb\" target=\"_parent\"><img src=\"https://colab.research.google.com/assets/colab-badge.svg\" alt=\"Open In Colab\"/></a>"
      ]
    },
    {
      "cell_type": "markdown",
      "metadata": {
        "id": "WErWZicJCd-X"
      },
      "source": [
        "1. Import the numpy package under the name np"
      ]
    },
    {
      "cell_type": "code",
      "metadata": {
        "id": "jO8Rzd9oB-kh"
      },
      "source": [
        "import numpy as np"
      ],
      "execution_count": 1,
      "outputs": []
    },
    {
      "cell_type": "markdown",
      "metadata": {
        "id": "bVOhZVXxCcTO"
      },
      "source": [
        "2. Print the numpy version and the configuration"
      ]
    },
    {
      "cell_type": "code",
      "metadata": {
        "colab": {
          "base_uri": "https://localhost:8080/"
        },
        "id": "geLfWppdCPLw",
        "outputId": "986a6363-1732-4e8f-8ff4-391d6371e38f"
      },
      "source": [
        "print(np.__version__)\n",
        "print(np.show_config)"
      ],
      "execution_count": 2,
      "outputs": [
        {
          "output_type": "stream",
          "name": "stdout",
          "text": [
            "1.19.5\n",
            "<function show at 0x7fb7d9d9e680>\n"
          ]
        }
      ]
    },
    {
      "cell_type": "markdown",
      "metadata": {
        "id": "cCh6y5ATDgU-"
      },
      "source": [
        "3. Create a null vector of size 10"
      ]
    },
    {
      "cell_type": "code",
      "metadata": {
        "colab": {
          "base_uri": "https://localhost:8080/"
        },
        "id": "by4R1ZDoDkAQ",
        "outputId": "dcdba234-4101-49e6-c24b-70751a4a1f20"
      },
      "source": [
        "a=np.zeros(10)\n",
        "print(a)"
      ],
      "execution_count": 3,
      "outputs": [
        {
          "output_type": "stream",
          "name": "stdout",
          "text": [
            "[0. 0. 0. 0. 0. 0. 0. 0. 0. 0.]\n"
          ]
        }
      ]
    },
    {
      "cell_type": "markdown",
      "metadata": {
        "id": "6lxtfhTiDyxp"
      },
      "source": [
        "4. How to find the memory size of any array "
      ]
    },
    {
      "cell_type": "code",
      "metadata": {
        "colab": {
          "base_uri": "https://localhost:8080/"
        },
        "id": "2Oujyj8MD2iB",
        "outputId": "b7efd544-439e-4e33-e65e-e2399b5ec43e"
      },
      "source": [
        "arr=np.array([1,2,3,4,5])\n",
        "print(arr.nbytes)"
      ],
      "execution_count": 4,
      "outputs": [
        {
          "output_type": "stream",
          "name": "stdout",
          "text": [
            "40\n"
          ]
        }
      ]
    },
    {
      "cell_type": "markdown",
      "metadata": {
        "id": "bC8XGUH6EKYo"
      },
      "source": [
        "5. How to get the documentation of the numpy add function from the command line?"
      ]
    },
    {
      "cell_type": "code",
      "metadata": {
        "colab": {
          "base_uri": "https://localhost:8080/"
        },
        "id": "sPv5y2IUEOfX",
        "outputId": "83262eb3-5813-40d7-a20a-b41c2bc01a53"
      },
      "source": [
        "print(np.info(np.add))"
      ],
      "execution_count": 5,
      "outputs": [
        {
          "output_type": "stream",
          "name": "stdout",
          "text": [
            "None\n"
          ]
        }
      ]
    },
    {
      "cell_type": "markdown",
      "metadata": {
        "id": "OUanIwkyE2XX"
      },
      "source": [
        "6. Create a null vector of size 10 but the fifth value which is 1 "
      ]
    },
    {
      "cell_type": "code",
      "metadata": {
        "colab": {
          "base_uri": "https://localhost:8080/"
        },
        "id": "9VJe3o8lE6XY",
        "outputId": "2a776325-d9b4-440e-c8a9-5b431756a9cc"
      },
      "source": [
        "a=np.zeros(10)\n",
        "a[4]=1\n",
        "print(a)"
      ],
      "execution_count": 6,
      "outputs": [
        {
          "output_type": "stream",
          "name": "stdout",
          "text": [
            "[0. 0. 0. 0. 1. 0. 0. 0. 0. 0.]\n"
          ]
        }
      ]
    },
    {
      "cell_type": "markdown",
      "metadata": {
        "id": "wrytmSKIFDB1"
      },
      "source": [
        "7. Create a vector with values ranging from 10 to 49"
      ]
    },
    {
      "cell_type": "code",
      "metadata": {
        "colab": {
          "base_uri": "https://localhost:8080/"
        },
        "id": "ViypaB_1FHXn",
        "outputId": "c993cd80-6285-451f-e530-774805079ebb"
      },
      "source": [
        "b=np.arange(10,50)\n",
        "print(b)"
      ],
      "execution_count": 7,
      "outputs": [
        {
          "output_type": "stream",
          "name": "stdout",
          "text": [
            "[10 11 12 13 14 15 16 17 18 19 20 21 22 23 24 25 26 27 28 29 30 31 32 33\n",
            " 34 35 36 37 38 39 40 41 42 43 44 45 46 47 48 49]\n"
          ]
        }
      ]
    },
    {
      "cell_type": "markdown",
      "metadata": {
        "id": "sIiAFnavFXP4"
      },
      "source": [
        "8. Reverse a vector (first element becomes last)"
      ]
    },
    {
      "cell_type": "code",
      "metadata": {
        "colab": {
          "base_uri": "https://localhost:8080/"
        },
        "id": "pUwtLvn5FbWj",
        "outputId": "d6f7f807-161e-44e7-a7dc-a0c7b6b472d0"
      },
      "source": [
        "b=b[::-1]\n",
        "print(b)"
      ],
      "execution_count": 8,
      "outputs": [
        {
          "output_type": "stream",
          "name": "stdout",
          "text": [
            "[49 48 47 46 45 44 43 42 41 40 39 38 37 36 35 34 33 32 31 30 29 28 27 26\n",
            " 25 24 23 22 21 20 19 18 17 16 15 14 13 12 11 10]\n"
          ]
        }
      ]
    },
    {
      "cell_type": "markdown",
      "metadata": {
        "id": "G8UejFmiGGhr"
      },
      "source": [
        "9. Create a 3x3 matrix with values ranging from 0 to 8"
      ]
    },
    {
      "cell_type": "code",
      "metadata": {
        "colab": {
          "base_uri": "https://localhost:8080/"
        },
        "id": "jxWNWzG5KiLm",
        "outputId": "773d1ce0-ed42-40c9-ab6f-d4a1dbfa0af9"
      },
      "source": [
        "np.matrix(np.arange(9).reshape((3,3)))"
      ],
      "execution_count": 9,
      "outputs": [
        {
          "output_type": "execute_result",
          "data": {
            "text/plain": [
              "matrix([[0, 1, 2],\n",
              "        [3, 4, 5],\n",
              "        [6, 7, 8]])"
            ]
          },
          "metadata": {},
          "execution_count": 9
        }
      ]
    },
    {
      "cell_type": "markdown",
      "metadata": {
        "id": "AoUK0qGdLy_L"
      },
      "source": [
        "10. Find indices of non-zero elements from [1,2,0,0,4,0]"
      ]
    },
    {
      "cell_type": "code",
      "metadata": {
        "colab": {
          "base_uri": "https://localhost:8080/"
        },
        "id": "lqK872YmL4Ce",
        "outputId": "b17e1efa-c71e-4ebe-d9ad-bf8e7f0c789b"
      },
      "source": [
        "np.nonzero([1,2,0,0,4,0])"
      ],
      "execution_count": 10,
      "outputs": [
        {
          "output_type": "execute_result",
          "data": {
            "text/plain": [
              "(array([0, 1, 4]),)"
            ]
          },
          "metadata": {},
          "execution_count": 10
        }
      ]
    },
    {
      "cell_type": "markdown",
      "metadata": {
        "id": "y6e7eFEpMXZh"
      },
      "source": [
        "11. Create a 3x3 identity matrix"
      ]
    },
    {
      "cell_type": "code",
      "metadata": {
        "colab": {
          "base_uri": "https://localhost:8080/"
        },
        "id": "fTl6dl21MdBG",
        "outputId": "93cc880d-02d0-4d1f-bedb-17bb85fbe968"
      },
      "source": [
        "np.identity(3)"
      ],
      "execution_count": 11,
      "outputs": [
        {
          "output_type": "execute_result",
          "data": {
            "text/plain": [
              "array([[1., 0., 0.],\n",
              "       [0., 1., 0.],\n",
              "       [0., 0., 1.]])"
            ]
          },
          "metadata": {},
          "execution_count": 11
        }
      ]
    },
    {
      "cell_type": "markdown",
      "metadata": {
        "id": "9G5YiDw6MsBW"
      },
      "source": [
        "12. Create a 3x3x3 array with random values"
      ]
    },
    {
      "cell_type": "code",
      "metadata": {
        "colab": {
          "base_uri": "https://localhost:8080/"
        },
        "id": "oqGst1muMwxB",
        "outputId": "a17b4149-c19c-4d46-f460-0e4b47453518"
      },
      "source": [
        "np.random.random((3,3,3))"
      ],
      "execution_count": 12,
      "outputs": [
        {
          "output_type": "execute_result",
          "data": {
            "text/plain": [
              "array([[[0.68942369, 0.18318677, 0.39583771],\n",
              "        [0.31700502, 0.60409426, 0.86554653],\n",
              "        [0.38934822, 0.30051216, 0.43156321]],\n",
              "\n",
              "       [[0.96208238, 0.10938986, 0.37377299],\n",
              "        [0.68917627, 0.10941888, 0.6915557 ],\n",
              "        [0.98719696, 0.99626732, 0.94663848]],\n",
              "\n",
              "       [[0.36176332, 0.64270531, 0.91615218],\n",
              "        [0.4346429 , 0.74819913, 0.76915028],\n",
              "        [0.88165412, 0.53754858, 0.12029533]]])"
            ]
          },
          "metadata": {},
          "execution_count": 12
        }
      ]
    },
    {
      "cell_type": "markdown",
      "metadata": {
        "id": "vuGTN1ESNg0H"
      },
      "source": [
        "13. Create a 10x10 array with random values and find the minimum and maximum values"
      ]
    },
    {
      "cell_type": "code",
      "metadata": {
        "colab": {
          "base_uri": "https://localhost:8080/"
        },
        "id": "t6DfBdFpNll3",
        "outputId": "b8f0fc65-e1ee-4bce-fba4-ead2a20095ea"
      },
      "source": [
        "d=np.random.random((10,10))\n",
        "print(d)\n",
        "print(d.min())\n",
        "print(d.max())"
      ],
      "execution_count": 13,
      "outputs": [
        {
          "output_type": "stream",
          "name": "stdout",
          "text": [
            "[[0.86256087 0.82257505 0.42385635 0.0959995  0.49332644 0.98687554\n",
            "  0.54667736 0.85443848 0.4148213  0.97824845]\n",
            " [0.7463088  0.71082905 0.11159725 0.27031679 0.83522219 0.55301061\n",
            "  0.98755046 0.85662517 0.12392008 0.69709329]\n",
            " [0.08866327 0.68608001 0.12145526 0.26941829 0.55161586 0.25188063\n",
            "  0.281082   0.28925267 0.49835597 0.29757086]\n",
            " [0.19698071 0.12157515 0.32019363 0.8121472  0.29548218 0.28544225\n",
            "  0.73238705 0.92146534 0.94093449 0.69553179]\n",
            " [0.93949073 0.83201431 0.56708346 0.54739955 0.44594591 0.55933353\n",
            "  0.26068855 0.25817774 0.8042561  0.22894735]\n",
            " [0.52669327 0.84915812 0.93650442 0.89653673 0.00245399 0.27197554\n",
            "  0.5165206  0.45614991 0.90921658 0.90884196]\n",
            " [0.7671988  0.84220901 0.53822008 0.32757061 0.58301174 0.82518365\n",
            "  0.36910882 0.39261215 0.41243249 0.6735715 ]\n",
            " [0.31507843 0.08791196 0.11177386 0.68643488 0.39640082 0.58687923\n",
            "  0.51489113 0.20311043 0.6721267  0.13946521]\n",
            " [0.21206942 0.90855719 0.02697234 0.07826872 0.38529841 0.64298445\n",
            "  0.55606702 0.61729122 0.16518652 0.27697677]\n",
            " [0.13155421 0.32850159 0.10628633 0.43508685 0.26876023 0.60670827\n",
            "  0.32973229 0.54516366 0.25627178 0.36607845]]\n",
            "0.002453985734082176\n",
            "0.9875504590517233\n"
          ]
        }
      ]
    },
    {
      "cell_type": "markdown",
      "metadata": {
        "id": "HaJteJKZOGsb"
      },
      "source": [
        "14. Create a random vector of size 30 and find the mean value"
      ]
    },
    {
      "cell_type": "code",
      "metadata": {
        "colab": {
          "base_uri": "https://localhost:8080/"
        },
        "id": "3HdbkGR0OPYU",
        "outputId": "88b05d80-35ea-4acc-805d-c5784447b97d"
      },
      "source": [
        "e=np.random.random(30)\n",
        "print(e.size)\n",
        "print(e)\n",
        "print(e.mean())"
      ],
      "execution_count": 14,
      "outputs": [
        {
          "output_type": "stream",
          "name": "stdout",
          "text": [
            "30\n",
            "[0.55760169 0.58346544 0.40813489 0.71070357 0.45875809 0.41520285\n",
            " 0.08910801 0.93581533 0.69363646 0.50216689 0.87031563 0.74770414\n",
            " 0.13295915 0.04001612 0.56951911 0.6180316  0.70198016 0.85198425\n",
            " 0.24590386 0.33111125 0.77645724 0.76882223 0.61341714 0.18578252\n",
            " 0.57133326 0.61429009 0.1999935  0.67030671 0.86929055 0.03485312]\n",
            "0.525622161015376\n"
          ]
        }
      ]
    },
    {
      "cell_type": "markdown",
      "metadata": {
        "id": "cMzWX1ygPjdi"
      },
      "source": [
        "15. Create a 2d array with 1 on the border and 0 inside"
      ]
    },
    {
      "cell_type": "code",
      "metadata": {
        "colab": {
          "base_uri": "https://localhost:8080/"
        },
        "id": "lizRmDS6PmST",
        "outputId": "f092d0c8-995c-42b1-c883-768742c9e970"
      },
      "source": [
        "f=np.ones((3,3))\n",
        "f[1:-1,1:-1]=0\n",
        "print(f)\n"
      ],
      "execution_count": 15,
      "outputs": [
        {
          "output_type": "stream",
          "name": "stdout",
          "text": [
            "[[1. 1. 1.]\n",
            " [1. 0. 1.]\n",
            " [1. 1. 1.]]\n"
          ]
        }
      ]
    },
    {
      "cell_type": "markdown",
      "metadata": {
        "id": "Sg4BVInWQAgF"
      },
      "source": [
        "16. How to add a border (filled with 0's) around an existing array?"
      ]
    },
    {
      "cell_type": "code",
      "metadata": {
        "colab": {
          "base_uri": "https://localhost:8080/"
        },
        "id": "MuxNuWBvQE5K",
        "outputId": "e9793447-1896-4844-fd92-30d82b44d036"
      },
      "source": [
        "g=np.ones((5,5))\n",
        "print(np.pad(g, pad_width=1, mode='constant',\n",
        "               constant_values=0))\n"
      ],
      "execution_count": 16,
      "outputs": [
        {
          "output_type": "stream",
          "name": "stdout",
          "text": [
            "[[0. 0. 0. 0. 0. 0. 0.]\n",
            " [0. 1. 1. 1. 1. 1. 0.]\n",
            " [0. 1. 1. 1. 1. 1. 0.]\n",
            " [0. 1. 1. 1. 1. 1. 0.]\n",
            " [0. 1. 1. 1. 1. 1. 0.]\n",
            " [0. 1. 1. 1. 1. 1. 0.]\n",
            " [0. 0. 0. 0. 0. 0. 0.]]\n"
          ]
        }
      ]
    },
    {
      "cell_type": "markdown",
      "metadata": {
        "id": "WTN09yq8Rc4a"
      },
      "source": [
        "17. What is the result of the following expression?\n",
        "\n",
        "0 * np.nan\n",
        "\n",
        "np.nan == np.nan\n",
        "\n",
        "np.inf > np.nan\n",
        "\n",
        "np.nan - np.nan\n",
        "\n",
        "np.nan in set([np.nan])\n",
        "\n",
        "0.3 == 3 * 0.1"
      ]
    },
    {
      "cell_type": "code",
      "metadata": {
        "colab": {
          "base_uri": "https://localhost:8080/"
        },
        "id": "7QTLAdqlTDaw",
        "outputId": "ea8bebb2-91b2-45d0-bc50-3cc5f81509b1"
      },
      "source": [
        "print(0 * np.nan)\n",
        "print(np.nan == np.nan)\n",
        "print(np.inf > np.nan)\n",
        "print(np.nan - np.nan)\n",
        "print(np.nan in set([np.nan]))\n",
        "print(0.3 == 3 * 0.1)"
      ],
      "execution_count": 17,
      "outputs": [
        {
          "output_type": "stream",
          "name": "stdout",
          "text": [
            "nan\n",
            "False\n",
            "False\n",
            "nan\n",
            "True\n",
            "False\n"
          ]
        }
      ]
    },
    {
      "cell_type": "markdown",
      "metadata": {
        "id": "pw8cU1ceTsSx"
      },
      "source": [
        "18. Create a 5x5 matrix with values 1,2,3,4 just below the diagonal"
      ]
    },
    {
      "cell_type": "code",
      "metadata": {
        "colab": {
          "base_uri": "https://localhost:8080/"
        },
        "id": "Tll4Y8o0Tviv",
        "outputId": "5e4ac789-72c4-493d-f0e7-e1fa002c6a54"
      },
      "source": [
        "h=np.zeros((5,5))\n",
        "for i in range(4):\n",
        "  h[i+1,i]=i+1\n",
        "print(h)"
      ],
      "execution_count": 18,
      "outputs": [
        {
          "output_type": "stream",
          "name": "stdout",
          "text": [
            "[[0. 0. 0. 0. 0.]\n",
            " [1. 0. 0. 0. 0.]\n",
            " [0. 2. 0. 0. 0.]\n",
            " [0. 0. 3. 0. 0.]\n",
            " [0. 0. 0. 4. 0.]]\n"
          ]
        }
      ]
    },
    {
      "cell_type": "markdown",
      "metadata": {
        "id": "a9w3tuRviS7U"
      },
      "source": [
        "19. Create a 8x8 matrix and fill it with a checkerboard pattern"
      ]
    },
    {
      "cell_type": "code",
      "metadata": {
        "colab": {
          "base_uri": "https://localhost:8080/"
        },
        "id": "SmhifuKviXS6",
        "outputId": "d0c952e4-6272-4a32-bb9f-135e78103087"
      },
      "source": [
        "i=np.zeros((8,8))\n",
        "i[0:8:2,0:8:2]=1\n",
        "i[1:9:2,1:9:2]=1\n",
        "print(i)"
      ],
      "execution_count": 19,
      "outputs": [
        {
          "output_type": "stream",
          "name": "stdout",
          "text": [
            "[[1. 0. 1. 0. 1. 0. 1. 0.]\n",
            " [0. 1. 0. 1. 0. 1. 0. 1.]\n",
            " [1. 0. 1. 0. 1. 0. 1. 0.]\n",
            " [0. 1. 0. 1. 0. 1. 0. 1.]\n",
            " [1. 0. 1. 0. 1. 0. 1. 0.]\n",
            " [0. 1. 0. 1. 0. 1. 0. 1.]\n",
            " [1. 0. 1. 0. 1. 0. 1. 0.]\n",
            " [0. 1. 0. 1. 0. 1. 0. 1.]]\n"
          ]
        }
      ]
    },
    {
      "cell_type": "markdown",
      "metadata": {
        "id": "NNsQP7LTrZkj"
      },
      "source": [
        "20.Consider a (6,7,8) shape array, what is the index (x,y,z) of the 100th **element**"
      ]
    },
    {
      "cell_type": "code",
      "metadata": {
        "colab": {
          "base_uri": "https://localhost:8080/"
        },
        "id": "zD7CQ6WErdPD",
        "outputId": "61dc8847-695c-472b-cbea-35cff05cb01e"
      },
      "source": [
        "print(np.unravel_index(100,(6,7,8)))"
      ],
      "execution_count": 20,
      "outputs": [
        {
          "output_type": "stream",
          "name": "stdout",
          "text": [
            "(1, 5, 4)\n"
          ]
        }
      ]
    },
    {
      "cell_type": "markdown",
      "metadata": {
        "id": "2gQCuGdWr2XN"
      },
      "source": [
        "21. Create a checkerboard 8x8 matrix using the tile function"
      ]
    },
    {
      "cell_type": "code",
      "metadata": {
        "colab": {
          "base_uri": "https://localhost:8080/"
        },
        "id": "HVQ0VPgNr7d7",
        "outputId": "6a61d4bf-50ec-4534-ec70-05b30768a950"
      },
      "source": [
        "arr=np.array([[1,0],[0,1]])\n",
        "brr=np.tile(arr,(4,4))\n",
        "print(brr)"
      ],
      "execution_count": 21,
      "outputs": [
        {
          "output_type": "stream",
          "name": "stdout",
          "text": [
            "[[1 0 1 0 1 0 1 0]\n",
            " [0 1 0 1 0 1 0 1]\n",
            " [1 0 1 0 1 0 1 0]\n",
            " [0 1 0 1 0 1 0 1]\n",
            " [1 0 1 0 1 0 1 0]\n",
            " [0 1 0 1 0 1 0 1]\n",
            " [1 0 1 0 1 0 1 0]\n",
            " [0 1 0 1 0 1 0 1]]\n"
          ]
        }
      ]
    },
    {
      "cell_type": "markdown",
      "metadata": {
        "id": "qTOzsGwBttj3"
      },
      "source": [
        "22. Normalize a 5x5 random matrix"
      ]
    },
    {
      "cell_type": "code",
      "metadata": {
        "colab": {
          "base_uri": "https://localhost:8080/"
        },
        "id": "7YpubBVTtxYf",
        "outputId": "7ce2b2f3-a23b-486d-9bc0-d8f2c8421c60"
      },
      "source": [
        "j=np.random.random((5,5))\n",
        "print(j)\n",
        "max=j.max()\n",
        "min=j.min()\n",
        "j=(j-min)/(max-min)\n",
        "print(j)"
      ],
      "execution_count": 22,
      "outputs": [
        {
          "output_type": "stream",
          "name": "stdout",
          "text": [
            "[[0.03701512 0.57091578 0.53481707 0.47366542 0.87875786]\n",
            " [0.16509701 0.76040974 0.63726475 0.34800586 0.13754738]\n",
            " [0.33813019 0.27340579 0.60340911 0.39882968 0.93157307]\n",
            " [0.10465377 0.15132163 0.73793215 0.81108101 0.32576181]\n",
            " [0.0215033  0.88063055 0.70302455 0.3816121  0.25976946]]\n",
            "[[0.01704464 0.60370369 0.56403782 0.49684335 0.94196576]\n",
            " [0.15778319 0.81192285 0.67660906 0.35876651 0.12751119]\n",
            " [0.34791497 0.27679469 0.6394079  0.41461258 1.        ]\n",
            " [0.09136714 0.14264656 0.7872241  0.86760129 0.33432438]\n",
            " [0.         0.9440235  0.74886704 0.39569362 0.26181087]]\n"
          ]
        }
      ]
    },
    {
      "cell_type": "markdown",
      "metadata": {
        "id": "BsLabvLNveiH"
      },
      "source": [
        "23. Create a custom dtype that describes a color as four unsigned bytes (RGBA)"
      ]
    },
    {
      "cell_type": "code",
      "metadata": {
        "colab": {
          "base_uri": "https://localhost:8080/"
        },
        "id": "ibg1QDD4y50n",
        "outputId": "e12c5c58-7238-4da1-e272-ad5120dbe34e"
      },
      "source": [
        "color = np.dtype([(\"r\", np.ubyte, 1),\n",
        "                  (\"g\", np.ubyte, 1),\n",
        "                  (\"b\", np.ubyte, 1),\n",
        "                  (\"a\", np.ubyte, 1)])"
      ],
      "execution_count": 23,
      "outputs": [
        {
          "output_type": "stream",
          "name": "stderr",
          "text": [
            "/usr/local/lib/python3.7/dist-packages/ipykernel_launcher.py:4: FutureWarning: Passing (type, 1) or '1type' as a synonym of type is deprecated; in a future version of numpy, it will be understood as (type, (1,)) / '(1,)type'.\n",
            "  after removing the cwd from sys.path.\n"
          ]
        }
      ]
    },
    {
      "cell_type": "markdown",
      "metadata": {
        "id": "beuJPzcA0Tpp"
      },
      "source": [
        "24. Multiply a 5x3 matrix by a 3x2 matrix (real matrix product)"
      ]
    },
    {
      "cell_type": "code",
      "metadata": {
        "colab": {
          "base_uri": "https://localhost:8080/"
        },
        "id": "RPEnCXbW0YKD",
        "outputId": "6813b143-84c0-4262-e9d9-28faeb125a1e"
      },
      "source": [
        "arr1=np.full((5,3),4)\n",
        "arr2=np.full((3,2),2)\n",
        "print(np.matmul(arr1,arr2))"
      ],
      "execution_count": 24,
      "outputs": [
        {
          "output_type": "stream",
          "name": "stdout",
          "text": [
            "[[24 24]\n",
            " [24 24]\n",
            " [24 24]\n",
            " [24 24]\n",
            " [24 24]]\n"
          ]
        }
      ]
    },
    {
      "cell_type": "markdown",
      "metadata": {
        "id": "U8Geu4Z_0zTE"
      },
      "source": [
        "25. Given a 1D array, negate all elements which are between 3 and 8, in place."
      ]
    },
    {
      "cell_type": "code",
      "metadata": {
        "colab": {
          "base_uri": "https://localhost:8080/"
        },
        "id": "B8S1T07z01-l",
        "outputId": "3f90c377-99c4-4672-b322-32381e27743b"
      },
      "source": [
        "arr = np.arange(15)\n",
        "print(arr)\n",
        "print(\"\\n\")\n",
        "arr[(arr >= 3) & (arr<= 8)] = 0\n",
        "print(arr)"
      ],
      "execution_count": 25,
      "outputs": [
        {
          "output_type": "stream",
          "name": "stdout",
          "text": [
            "[ 0  1  2  3  4  5  6  7  8  9 10 11 12 13 14]\n",
            "\n",
            "\n",
            "[ 0  1  2  0  0  0  0  0  0  9 10 11 12 13 14]\n"
          ]
        }
      ]
    },
    {
      "cell_type": "markdown",
      "metadata": {
        "id": "7bchc-0K1cLX"
      },
      "source": [
        "26. What is the output of the following script?"
      ]
    },
    {
      "cell_type": "code",
      "metadata": {
        "colab": {
          "base_uri": "https://localhost:8080/"
        },
        "id": "AYSDBOLS3avY",
        "outputId": "c90a6046-5f4f-4147-c978-b93f637441c1"
      },
      "source": [
        "print(sum(range(5),-1))\n",
        "from numpy import *\n",
        "print(sum(range(5),-1))"
      ],
      "execution_count": 26,
      "outputs": [
        {
          "output_type": "stream",
          "name": "stdout",
          "text": [
            "9\n",
            "10\n"
          ]
        }
      ]
    },
    {
      "cell_type": "markdown",
      "metadata": {
        "id": "p0jNBKVy37mo"
      },
      "source": [
        "27.Consider an integer vector Z, which of these expressions are legal?"
      ]
    },
    {
      "cell_type": "code",
      "metadata": {
        "colab": {
          "base_uri": "https://localhost:8080/"
        },
        "id": "ChSgqgl24Dqy",
        "outputId": "d080e128-c79f-4451-a8ed-5bb027229ef3"
      },
      "source": [
        "Z=3\n",
        "print(Z**Z)\n",
        "print(2 << Z >> 2)\n",
        "print(Z <- Z)\n",
        "print(1j*Z)\n",
        "print(Z/1/1)\n",
        "print(Z<Z>Z)"
      ],
      "execution_count": 33,
      "outputs": [
        {
          "output_type": "stream",
          "name": "stdout",
          "text": [
            "27\n",
            "4\n",
            "False\n",
            "3j\n",
            "3.0\n",
            "False\n"
          ]
        }
      ]
    },
    {
      "cell_type": "markdown",
      "metadata": {
        "id": "vQbif2bj4mlF"
      },
      "source": [
        "28. What are the result of the following expressions?"
      ]
    },
    {
      "cell_type": "code",
      "metadata": {
        "colab": {
          "base_uri": "https://localhost:8080/"
        },
        "id": "gBFhMdb84sBj",
        "outputId": "0a06ad3c-0d81-498a-b388-cfb16b0b5a09"
      },
      "source": [
        "print(np.array(0) / np.array(0))\n",
        "print(np.array(0) // np.array(0))\n",
        "print(np.array([np.nan]).astype(int).astype(float))"
      ],
      "execution_count": 36,
      "outputs": [
        {
          "output_type": "stream",
          "name": "stdout",
          "text": [
            "nan\n",
            "0\n",
            "[-9.22337204e+18]\n"
          ]
        },
        {
          "output_type": "stream",
          "name": "stderr",
          "text": [
            "/usr/local/lib/python3.7/dist-packages/ipykernel_launcher.py:1: RuntimeWarning: invalid value encountered in true_divide\n",
            "  \"\"\"Entry point for launching an IPython kernel.\n",
            "/usr/local/lib/python3.7/dist-packages/ipykernel_launcher.py:2: RuntimeWarning: divide by zero encountered in floor_divide\n",
            "  \n"
          ]
        }
      ]
    },
    {
      "cell_type": "markdown",
      "metadata": {
        "id": "WVTaifsT4975"
      },
      "source": [
        "29. How to round away from zero a float array ?"
      ]
    },
    {
      "cell_type": "code",
      "metadata": {
        "colab": {
          "base_uri": "https://localhost:8080/"
        },
        "id": "gy5j4VM05CqA",
        "outputId": "8ee1e819-1a02-4153-f2ec-824084503414"
      },
      "source": [
        "k=np.array([0.9,1.4,2.5,3.5,4.0,5.0199])\n",
        "print(np.round(k,0))"
      ],
      "execution_count": 46,
      "outputs": [
        {
          "output_type": "stream",
          "name": "stdout",
          "text": [
            "[1. 1. 2. 4. 4. 5.]\n"
          ]
        }
      ]
    },
    {
      "cell_type": "markdown",
      "metadata": {
        "id": "RiNeOIkm5b8U"
      },
      "source": [
        "30. How to find common values between two arrays? "
      ]
    },
    {
      "cell_type": "code",
      "metadata": {
        "colab": {
          "base_uri": "https://localhost:8080/"
        },
        "id": "xw-HumTi5fX9",
        "outputId": "6ffc0692-23db-495e-d37a-86c5ea0a43b1"
      },
      "source": [
        "l=np.arange((7))\n",
        "m=np.arange((10))\n",
        "print(np.intersect1d(l,m))"
      ],
      "execution_count": 51,
      "outputs": [
        {
          "output_type": "stream",
          "name": "stdout",
          "text": [
            "[0 1 2 3 4 5 6]\n"
          ]
        }
      ]
    },
    {
      "cell_type": "markdown",
      "metadata": {
        "id": "Uf7toPXi6QMf"
      },
      "source": [
        "31. How to ignore all numpy warnings (not recommended)?"
      ]
    },
    {
      "cell_type": "code",
      "metadata": {
        "id": "Mshyh4TC6TN_"
      },
      "source": [
        "# Suicide mode on\n",
        "defaults = np.seterr(all=\"ignore\")\n",
        "Z = np.ones(1) / 0\n",
        "\n",
        "# Back to sanity\n",
        "_ = np.seterr(**defaults)"
      ],
      "execution_count": 52,
      "outputs": []
    },
    {
      "cell_type": "markdown",
      "metadata": {
        "id": "nGk9HEG27JqJ"
      },
      "source": [
        "32. Is the following expressions true?"
      ]
    },
    {
      "cell_type": "code",
      "metadata": {
        "colab": {
          "base_uri": "https://localhost:8080/"
        },
        "id": "R8v95JZe7Mv8",
        "outputId": "db16b6df-6c98-47f7-e91a-e73fdfc42375"
      },
      "source": [
        "print(np.sqrt(-1) == np.emath.sqrt(-1))\n",
        "#print(np.sqrt(-1))\n",
        "#print(np.emath.sqrt(-1))"
      ],
      "execution_count": 56,
      "outputs": [
        {
          "output_type": "stream",
          "name": "stdout",
          "text": [
            "False\n"
          ]
        },
        {
          "output_type": "stream",
          "name": "stderr",
          "text": [
            "/usr/local/lib/python3.7/dist-packages/ipykernel_launcher.py:1: RuntimeWarning: invalid value encountered in sqrt\n",
            "  \"\"\"Entry point for launching an IPython kernel.\n"
          ]
        }
      ]
    },
    {
      "cell_type": "markdown",
      "metadata": {
        "id": "WjwBUIHZ7nNg"
      },
      "source": [
        "33. How to get the dates of yesterday, today and tomorrow?"
      ]
    },
    {
      "cell_type": "code",
      "metadata": {
        "colab": {
          "base_uri": "https://localhost:8080/"
        },
        "id": "8zuMMCKX7rCe",
        "outputId": "b9875347-60a2-43e7-d7b6-e2171edbbe7f"
      },
      "source": [
        "print(\"TODAY     = \", np.datetime64('today', 'D'))\n",
        "print(\"YESTERDAY = \", np.datetime64('today', 'D') - np.timedelta64(1, 'D'))\n",
        "print(\"TOMORROW  = \",np.datetime64('today', 'D') + np.timedelta64(1, 'D'))"
      ],
      "execution_count": 63,
      "outputs": [
        {
          "output_type": "stream",
          "name": "stdout",
          "text": [
            "TODAY     =  2021-09-16\n",
            "YESTERDAY =  2021-09-15\n",
            "TOMORROW  =  2021-09-17\n"
          ]
        }
      ]
    },
    {
      "cell_type": "markdown",
      "metadata": {
        "id": "G312Ldjn85pN"
      },
      "source": [
        ""
      ]
    }
  ]
}